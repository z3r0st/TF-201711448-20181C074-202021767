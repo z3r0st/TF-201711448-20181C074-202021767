{
 "cells": [
  {
   "cell_type": "markdown",
   "id": "adf16903",
   "metadata": {},
   "source": [
    "# Data Capture"
   ]
  },
  {
   "cell_type": "code",
   "execution_count": 2,
   "id": "244fe178",
   "metadata": {},
   "outputs": [],
   "source": [
    "with open(\"/home/z3r0/Code/Python/Algorithmic_Complexity/TP/SF_street_intersections.csv\") as f:\n",
    "    data = f.readlines()[1:]\n",
    "    intercepts = dict()\n",
    "    streets = dict()\n",
    "    nodes = dict()\n",
    "    nodeToIntercept = dict()\n",
    "    c = 0\n",
    "    for line in data:\n",
    "        street, point = line.strip().split(sep=',')[1:3]\n",
    "        lat, lon = point[7:-2].split()\n",
    "        intercept = (float(lat), float(lon))\n",
    "        if street in intercepts.keys():\n",
    "            intercepts[street].append(intercept)\n",
    "        else:\n",
    "            intercepts[street] = [intercept]\n",
    "        if intercept in streets.keys():\n",
    "            streets[intercept].append(street)\n",
    "        else:\n",
    "            streets[intercept] = [street]\n",
    "            nodes[intercept] = c\n",
    "            nodeToIntercept[c] = intercept\n",
    "            c += 1"
   ]
  },
  {
   "cell_type": "code",
   "execution_count": 3,
   "id": "7eaffe57",
   "metadata": {},
   "outputs": [
    {
     "data": {
      "text/plain": [
       "[(-122.40545417189192, 37.7543372313743),\n",
       " (-122.40679858931149, 37.76841488233248),\n",
       " (-122.40606109793055, 37.7607529052339),\n",
       " (-122.4061819835959, 37.7619964030768),\n",
       " (-122.40655282446389, 37.7658422711544),\n",
       " (-122.40515881630326, 37.7512810744602),\n",
       " (-122.40593403378597, 37.7594458071505),\n",
       " (-122.40688239974939, 37.769298557428),\n",
       " (-122.40521698628322, 37.7562225803215),\n",
       " (-122.40642915445186, 37.7645476536961),\n",
       " (-122.40520770296072, 37.7517869480963),\n",
       " (-122.40630557076001, 37.7632538870406),\n",
       " (-122.40525954218414, 37.75692043860479),\n",
       " (-122.40533110370748, 37.753063831974),\n",
       " (-122.40667700476389, 37.7671421818598)]"
      ]
     },
     "execution_count": 3,
     "metadata": {},
     "output_type": "execute_result"
    }
   ],
   "source": [
    "intercepts['UTAH']"
   ]
  },
  {
   "cell_type": "code",
   "execution_count": 4,
   "id": "297d1a27",
   "metadata": {},
   "outputs": [
    {
     "data": {
      "text/plain": [
       "['UTAH', '23RD']"
      ]
     },
     "execution_count": 4,
     "metadata": {},
     "output_type": "execute_result"
    }
   ],
   "source": [
    "streets[(-122.40545417189192, 37.7543372313743)]"
   ]
  },
  {
   "cell_type": "markdown",
   "id": "dc1fd687",
   "metadata": {},
   "source": [
    "# Graph creation"
   ]
  },
  {
   "cell_type": "code",
   "execution_count": 5,
   "id": "c3eea7ea",
   "metadata": {},
   "outputs": [],
   "source": [
    "def createGraph(streets, intercepts, nodes):\n",
    "    G = [[] for i in range(len(streets.keys()))]\n",
    "    def calculateDistance(p1, p2):\n",
    "        return sum((map(lambda c1, c2: abs(c1 - c2), intercept, point)))\n",
    "    for intercept in streets.keys():\n",
    "        for street in streets[intercept]:\n",
    "            distance = []\n",
    "            for point in intercepts[street]:\n",
    "                if point != intercept:\n",
    "                    # print(calculateDistance(intercept, point))\n",
    "                    distance.append([nodes[point], calculateDistance(intercept, point)])\n",
    "            # print(distance)\n",
    "            distance.sort(key=lambda ls: ls[1])\n",
    "            if len(distance) > 1:\n",
    "                neighbours = distance[0:2]\n",
    "                if calculateDistance(neighbours[0][1], neighbours[1][1]) > neighbours[0][1]:\n",
    "                    neighbours.pop()\n",
    "                G[nodes[intercept]].extend([neighbours[x][0] for x in range(len(neighbours))])\n",
    "            elif len(distance) > 0:\n",
    "                G[nodes[intercept]].append(distance[0][0])\n",
    "    \n",
    "    return G"
   ]
  },
  {
   "cell_type": "code",
   "execution_count": 6,
   "id": "4422c125",
   "metadata": {},
   "outputs": [
    {
     "data": {
      "text/plain": [
       "[[5321, 2454],\n",
       " [1008, 1357],\n",
       " [3200, 4320],\n",
       " [5578, 2101],\n",
       " [1085, 1828, 7151, 1828],\n",
       " [7551],\n",
       " [4830, 3731],\n",
       " [3659, 2939],\n",
       " [1685, 7096, 8285],\n",
       " [3790, 847]]"
      ]
     },
     "execution_count": 6,
     "metadata": {},
     "output_type": "execute_result"
    }
   ],
   "source": [
    "G_al = createGraph(streets, intercepts, nodes)\n",
    "G_al[0:10]"
   ]
  },
  {
   "cell_type": "code",
   "execution_count": 7,
   "id": "58d1e146",
   "metadata": {},
   "outputs": [],
   "source": [
    "assert 0 in G_al[G_al[0][0]] and 0 in G_al[G_al[0][1]]"
   ]
  },
  {
   "cell_type": "markdown",
   "id": "b9fe4bd1",
   "metadata": {},
   "source": [
    "# Tests"
   ]
  },
  {
   "cell_type": "code",
   "execution_count": 8,
   "id": "2e9e39f4",
   "metadata": {},
   "outputs": [],
   "source": [
    "def commonStreet(ls1, ls2):\n",
    "    for street in ls1:\n",
    "        if street in ls2:\n",
    "            return True\n",
    "    return False"
   ]
  },
  {
   "cell_type": "code",
   "execution_count": 9,
   "id": "6a5356ed",
   "metadata": {},
   "outputs": [],
   "source": [
    "assert commonStreet(streets[nodeToIntercept[G_al[0][0]]], streets[nodeToIntercept[0]]) and commonStreet(streets[nodeToIntercept[G_al[0][1]]], streets[nodeToIntercept[0]])"
   ]
  },
  {
   "cell_type": "code",
   "execution_count": 10,
   "id": "af2fc8b0",
   "metadata": {},
   "outputs": [],
   "source": [
    "assert commonStreet(streets[nodeToIntercept[G_al[0][1]]], streets[nodeToIntercept[0]]) and commonStreet(streets[nodeToIntercept[G_al[0][1]]], streets[nodeToIntercept[0]])"
   ]
  },
  {
   "cell_type": "code",
   "execution_count": 11,
   "id": "67767f4e",
   "metadata": {},
   "outputs": [],
   "source": [
    "assert commonStreet(streets[nodeToIntercept[G_al[1][0]]], streets[nodeToIntercept[1]]) and commonStreet(streets[nodeToIntercept[G_al[0][1]]], streets[nodeToIntercept[0]])"
   ]
  },
  {
   "cell_type": "markdown",
   "id": "da4a15c9",
   "metadata": {},
   "source": [
    "# Writing the graph adjacency list"
   ]
  },
  {
   "cell_type": "code",
   "execution_count": 11,
   "id": "f29c9c1e",
   "metadata": {},
   "outputs": [],
   "source": [
    "f = open(\"graph.al\", \"w\")\n",
    "c = 0\n",
    "for line in G_al:\n",
    "    f.write(str(c)+' ')\n",
    "    if len(line) > 0:\n",
    "        for x in line:\n",
    "            f.write(str(x)+' ')\n",
    "    else:\n",
    "        f.write('-')\n",
    "    f.write('\\n')\n",
    "    c += 1"
   ]
  }
 ],
 "metadata": {
  "kernelspec": {
   "display_name": "Python 3 (ipykernel)",
   "language": "python",
   "name": "python3"
  },
  "language_info": {
   "codemirror_mode": {
    "name": "ipython",
    "version": 3
   },
   "file_extension": ".py",
   "mimetype": "text/x-python",
   "name": "python",
   "nbconvert_exporter": "python",
   "pygments_lexer": "ipython3",
   "version": "3.9.7"
  }
 },
 "nbformat": 4,
 "nbformat_minor": 5
}
