{
  "nbformat": 4,
  "nbformat_minor": 0,
  "metadata": {
    "colab": {
      "name": "Basauri_aporte_Hito3.ipynb",
      "provenance": [],
      "authorship_tag": "ABX9TyNswDw6Tqal/S2XTLUDYtJj",
      "include_colab_link": true
    },
    "kernelspec": {
      "name": "python3",
      "display_name": "Python 3"
    },
    "language_info": {
      "name": "python"
    }
  },
  "cells": [
    {
      "cell_type": "markdown",
      "metadata": {
        "id": "view-in-github",
        "colab_type": "text"
      },
      "source": [
        "<a href=\"https://colab.research.google.com/github/z3r0st/TF-201711448-20181C074-202021767/blob/main/Basauri_aporte_Hito3.ipynb\" target=\"_parent\"><img src=\"https://colab.research.google.com/assets/colab-badge.svg\" alt=\"Open In Colab\"/></a>"
      ]
    },
    {
      "cell_type": "code",
      "execution_count": null,
      "metadata": {
        "id": "keyL3gZ8SnvH"
      },
      "outputs": [],
      "source": [
        "def reescalado(val,rangeMin, rangeMax):\n",
        "  rangeReal = rangeMax - rangeMin\n",
        "  val += 1\n",
        "  return rangeMin + ((rangeReal*val)/2.0)"
      ]
    },
    {
      "cell_type": "code",
      "source": [
        "reescalado(-0.5,1,100)"
      ],
      "metadata": {
        "colab": {
          "base_uri": "https://localhost:8080/"
        },
        "id": "qJVn-YgMUO3r",
        "outputId": "09930aca-c8fd-4fdc-e5b5-b7178f5dba1e"
      },
      "execution_count": null,
      "outputs": [
        {
          "output_type": "execute_result",
          "data": {
            "text/plain": [
              "25.75"
            ]
          },
          "metadata": {},
          "execution_count": 4
        }
      ]
    },
    {
      "cell_type": "code",
      "source": [
        "import heapq as hq\n",
        "import math"
      ],
      "metadata": {
        "id": "-EdcLOnIUmks"
      },
      "execution_count": 1,
      "outputs": []
    },
    {
      "cell_type": "code",
      "source": [
        "def __path(path, s, t):\n",
        "  i = t\n",
        "  route = [i]\n",
        "  while i!=s:\n",
        "    route.append(path[i])\n",
        "    i = path[i]\n",
        "    if path[i] == -1 and i != s:\n",
        "      return []\n",
        "  route.reverse()\n",
        "  return route"
      ],
      "metadata": {
        "id": "WVywhflEDMpY"
      },
      "execution_count": 82,
      "outputs": []
    },
    {
      "cell_type": "code",
      "source": [
        "def dijkstra(G, s, t = None):\n",
        "  n = len(G)\n",
        "  visited = [False]*n\n",
        "  path = [-1]*n\n",
        "  cost = [math.inf]*n\n",
        "\n",
        "  cost[s] = 0\n",
        "  pqueue = [(0, s)]\n",
        "  while pqueue:\n",
        "    g, u = hq.heappop(pqueue)\n",
        "    if not visited[u]:\n",
        "      visited[u] = True\n",
        "      for v, w in G[u]:\n",
        "        if not visited[v]:\n",
        "            f = g + w\n",
        "            if f < cost[v]:\n",
        "              cost[v] = f\n",
        "              path[v] = u\n",
        "              hq.heappush(pqueue, (f, v))\n",
        "  if t:\n",
        "    return [__path(path, s, t), cost[t]]\n",
        "  else: \n",
        "    return path, cost"
      ],
      "metadata": {
        "id": "2OjQDgaX5fzi"
      },
      "execution_count": 83,
      "outputs": []
    },
    {
      "cell_type": "code",
      "source": [
        "def remove_edge(G, n_from, n_to):\n",
        "  cost = None\n",
        "  for i in range(len(G[n_from])):\n",
        "    if G[n_from][i][0] == n_to:\n",
        "      #print(n_from, n_to, G[n_from][i][1])\n",
        "      cost = G[n_from][i][1]\n",
        "      if cost == math.inf:\n",
        "        return -1\n",
        "      else:\n",
        "        #print(\"remove\")\n",
        "        G[n_from][i][1] = math.inf\n",
        "        return cost"
      ],
      "metadata": {
        "id": "Kug6z9Elgns3"
      },
      "execution_count": 105,
      "outputs": []
    },
    {
      "cell_type": "code",
      "source": [
        "def append_edge(G, n_from, n_to, cost):\n",
        "  for i in range(len(G[n_from])):\n",
        "    if G[n_from][i][0] == n_to:\n",
        "      G[n_from][i][1] = cost\n",
        "      return"
      ],
      "metadata": {
        "id": "Mfr-KGCIpImd"
      },
      "execution_count": 106,
      "outputs": []
    },
    {
      "cell_type": "code",
      "source": [
        "def YenKSP(G, init, end, K):\n",
        "  global_path,costs = dijkstra(G, init)\n",
        "  A = [{\n",
        "      'cost': costs[end],\n",
        "      'path': __path(global_path, init, end)\n",
        "  }]\n",
        "  B = []\n",
        "\n",
        "  if A[0]['path'] == []: return A\n",
        "\n",
        "  for k in range(1, K):    \n",
        "    temp_removed = []\n",
        "    for i in range(0, len(A[k-1]['path'])-1):\n",
        "      spurNode = A[k -1]['path'][i]\n",
        "      rootPath = A[k -1]['path'][:i+1]\n",
        "\n",
        "      for p in A:\n",
        "        if rootPath == p['path'][:i+1] and len(p['path']) > i:\n",
        "          cost = remove_edge(G,p['path'][i],p['path'][i+1])\n",
        "          if cost != -1:\n",
        "            #continue\n",
        "            #print(\"append\")\n",
        "            temp_removed.append([p['path'][i],p['path'][i+1],cost])\n",
        "          #temp_removed.append([p['path'][i],p['path'][i+1],cost]) #swap\n",
        "      \n",
        "      spurPath = dijkstra(G, spurNode, end)\n",
        "\n",
        "      validate = True\n",
        "\n",
        "      for p in A:\n",
        "        if all(j in spurPath[0] for j in p):\n",
        "          validate = False\n",
        "\n",
        "      if spurPath != [] and validate == True:\n",
        "        totalPath = rootPath[:-1] + spurPath[0]\n",
        "        totalCost = costs[spurNode] + spurPath[1]\n",
        "        candidate = {'cost': totalCost, 'path': totalPath}\n",
        "\n",
        "        if not (candidate in B) and not (candidate in A):\n",
        "          B.append(candidate)\n",
        "    \n",
        "    #print(temp_removed)\n",
        "    for temp in temp_removed:\n",
        "      #print(G)\n",
        "      append_edge(G, temp[0], temp[1], temp[2])\n",
        "      #print(G)\n",
        "      #print(\"---------------\")\n",
        "      #print(temp[0], temp[1], temp[2])\n",
        "    if len(B) == 0:\n",
        "      break\n",
        "    B = sorted(B, key = lambda d: d['cost'])\n",
        "    A.append(B.pop(0))\n",
        "  return A"
      ],
      "metadata": {
        "id": "fwfYyrph5glp"
      },
      "execution_count": 107,
      "outputs": []
    },
    {
      "cell_type": "code",
      "source": [
        "list_listo = [1,2,3,4,5,6,7]\n",
        "listita = [1,2,3,5]\n",
        "if all(i in list_listo for i in listita):\n",
        "  print(\"a\")"
      ],
      "metadata": {
        "colab": {
          "base_uri": "https://localhost:8080/"
        },
        "id": "glLjSBLsIPWj",
        "outputId": "31b0a4f3-dc9c-4147-ec1b-185b3ff0e76c"
      },
      "execution_count": null,
      "outputs": [
        {
          "output_type": "stream",
          "name": "stdout",
          "text": [
            "a\n"
          ]
        }
      ]
    },
    {
      "cell_type": "markdown",
      "source": [
        "#Testing"
      ],
      "metadata": {
        "id": "SfUnnLeXyUGN"
      }
    },
    {
      "cell_type": "code",
      "source": [
        "%%file 0502.al\n",
        "1 2 3 2 4 9\n",
        "0 2 2 1 3 2 5 2\n",
        "1 1 4 2 6 2\n",
        "0 2 1 2 5 9 7 3\n",
        "0 9 2 2 7 8\n",
        "1 2 3 9 6 7\n",
        "2 2 5 7 7 3\n",
        "3 3 4 8 6 3"
      ],
      "metadata": {
        "colab": {
          "base_uri": "https://localhost:8080/"
        },
        "id": "UP8lXipNGpLv",
        "outputId": "b07acd49-0a5e-481f-8f13-a06a5ee93485"
      },
      "execution_count": 108,
      "outputs": [
        {
          "output_type": "stream",
          "name": "stdout",
          "text": [
            "Overwriting 0502.al\n"
          ]
        }
      ]
    },
    {
      "cell_type": "code",
      "source": [
        "with open(\"0502.al\") as f:\n",
        "  G = []\n",
        "  for line in f:\n",
        "    nums = [int(x) for x in line.split()]\n",
        "    G.append([])\n",
        "    for i in range(0, len(nums), 2):\n",
        "      G[-1].append([nums[i], nums[i+1]])\n",
        "\n",
        "for x in G:\n",
        "  print(x)"
      ],
      "metadata": {
        "colab": {
          "base_uri": "https://localhost:8080/"
        },
        "id": "qSe6ICZKGqhl",
        "outputId": "f30905e2-1f44-4be0-ef85-87cda4ef39a6"
      },
      "execution_count": 109,
      "outputs": [
        {
          "output_type": "stream",
          "name": "stdout",
          "text": [
            "[[1, 2], [3, 2], [4, 9]]\n",
            "[[0, 2], [2, 1], [3, 2], [5, 2]]\n",
            "[[1, 1], [4, 2], [6, 2]]\n",
            "[[0, 2], [1, 2], [5, 9], [7, 3]]\n",
            "[[0, 9], [2, 2], [7, 8]]\n",
            "[[1, 2], [3, 9], [6, 7]]\n",
            "[[2, 2], [5, 7], [7, 3]]\n",
            "[[3, 3], [4, 8], [6, 3]]\n"
          ]
        }
      ]
    },
    {
      "cell_type": "code",
      "source": [
        "dijkstra(G,3,6)"
      ],
      "metadata": {
        "colab": {
          "base_uri": "https://localhost:8080/"
        },
        "id": "AVdeyPqg-3wA",
        "outputId": "67d5e34b-0c80-4077-a82e-3957df64be87"
      },
      "execution_count": null,
      "outputs": [
        {
          "output_type": "stream",
          "name": "stdout",
          "text": [
            "[False, False, False, True, False, False, False, False]\n",
            "[True, False, False, True, False, False, False, False]\n",
            "[True, True, False, True, False, False, False, False]\n",
            "[True, True, True, True, False, False, False, False]\n",
            "[True, True, True, True, False, False, False, True]\n",
            "[True, True, True, True, False, True, False, True]\n",
            "[True, True, True, True, True, True, False, True]\n",
            "[True, True, True, True, True, True, True, True]\n"
          ]
        },
        {
          "output_type": "execute_result",
          "data": {
            "text/plain": [
              "[[3, 1, 2, 6], 5]"
            ]
          },
          "metadata": {},
          "execution_count": 78
        }
      ]
    },
    {
      "cell_type": "markdown",
      "source": [
        "![image.png](data:image/png;base64,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)"
      ],
      "metadata": {
        "id": "VvzTFfGVzeB9"
      }
    },
    {
      "cell_type": "code",
      "source": [
        "G"
      ],
      "metadata": {
        "colab": {
          "base_uri": "https://localhost:8080/"
        },
        "id": "Wn4KXLYe_aXF",
        "outputId": "a55659a8-7d1e-482a-da96-839ef88de085"
      },
      "execution_count": 89,
      "outputs": [
        {
          "output_type": "execute_result",
          "data": {
            "text/plain": [
              "[[[1, 2], [3, 2], [4, 9]],\n",
              " [[0, 2], [2, 1], [3, 2], [5, 2]],\n",
              " [[1, 1], [4, 2], [6, 2]],\n",
              " [[0, 2], [1, 2], [5, 9], [7, 3]],\n",
              " [[0, 9], [2, 2], [7, 8]],\n",
              " [[1, 2], [3, 9], [6, 7]],\n",
              " [[2, 2], [5, 7], [7, 3]],\n",
              " [[3, 3], [4, 8], [6, 3]]]"
            ]
          },
          "metadata": {},
          "execution_count": 89
        }
      ]
    },
    {
      "cell_type": "code",
      "source": [
        "YenKSP(G,3,6,3)"
      ],
      "metadata": {
        "colab": {
          "base_uri": "https://localhost:8080/"
        },
        "id": "W-DING2EZCzF",
        "outputId": "e7edc90d-dd71-41e6-d730-a5f7cc8932a1"
      },
      "execution_count": 111,
      "outputs": [
        {
          "output_type": "execute_result",
          "data": {
            "text/plain": [
              "[{'cost': 5, 'path': [3, 1, 2, 6]},\n",
              " {'cost': 6, 'path': [3, 7, 6]},\n",
              " {'cost': 7, 'path': [3, 0, 1, 2, 6]}]"
            ]
          },
          "metadata": {},
          "execution_count": 111
        }
      ]
    },
    {
      "cell_type": "code",
      "source": [
        "YenKSP(G,3,4,3)"
      ],
      "metadata": {
        "colab": {
          "base_uri": "https://localhost:8080/"
        },
        "id": "H52G9ElizlWL",
        "outputId": "918ff27d-4c0e-4036-b09a-4aa3b3335871"
      },
      "execution_count": 114,
      "outputs": [
        {
          "output_type": "execute_result",
          "data": {
            "text/plain": [
              "[{'cost': 5, 'path': [3, 1, 2, 4]},\n",
              " {'cost': 7, 'path': [3, 0, 1, 2, 4]},\n",
              " {'cost': 10, 'path': [3, 7, 6, 2, 4]}]"
            ]
          },
          "metadata": {},
          "execution_count": 114
        }
      ]
    },
    {
      "cell_type": "code",
      "source": [
        "spurPath = [[0, 3, 1, 2, 4],[]]\n",
        "validate = True\n",
        "A = [[3, 1, 2, 4],[3, 0, 1, 2, 4]]\n",
        "for p in A:\n",
        "  if all(j in spurPath[0] for j in p):\n",
        "    validate = False\n",
        "\n",
        "print(validate)"
      ],
      "metadata": {
        "colab": {
          "base_uri": "https://localhost:8080/"
        },
        "id": "hnf2sQtv2DgG",
        "outputId": "a704fe25-b0d5-4bb8-9b97-cd5a65f3057b"
      },
      "execution_count": 24,
      "outputs": [
        {
          "output_type": "stream",
          "name": "stdout",
          "text": [
            "False\n"
          ]
        }
      ]
    },
    {
      "cell_type": "code",
      "source": [
        "import requests"
      ],
      "metadata": {
        "id": "FlR7s1V5xoQc"
      },
      "execution_count": 143,
      "outputs": []
    },
    {
      "cell_type": "code",
      "source": [
        "url = \"https://raw.githubusercontent.com/z3r0st/TF-201711448-20181C074-202021767/main/SF_street_intersections.csv\"\n",
        "file = requests.get(url).content\n",
        "f = file.decode('utf-8')\n",
        "\n",
        "data = f.split(sep='\\n')[1:]\n",
        "intercepts = dict()\n",
        "streets = dict()\n",
        "nodes = dict()\n",
        "nodeToIntercept = dict()\n",
        "c = 0\n",
        "for line in data:\n",
        "    if(len(line) == 0):\n",
        "        continue\n",
        "    street, point = line.split(sep=',')[1:3]\n",
        "    lon, lat = point[7:-2].split()\n",
        "    intercept = (float(lat), float(lon))\n",
        "    if street in intercepts.keys():\n",
        "        intercepts[street].append(intercept)\n",
        "    else:\n",
        "        intercepts[street] = [intercept]\n",
        "    if intercept in streets.keys():\n",
        "        streets[intercept].append(street)\n",
        "    else:\n",
        "        streets[intercept] = [street]\n",
        "        nodes[intercept] = c\n",
        "        nodeToIntercept[c] = intercept\n",
        "        c += 1"
      ],
      "metadata": {
        "id": "b9vCz0pr4KAR"
      },
      "execution_count": 144,
      "outputs": []
    },
    {
      "cell_type": "code",
      "source": [
        "def toRadians(valor):\n",
        "  return (math.pi/180.0)*valor"
      ],
      "metadata": {
        "id": "9jxRQjmm4M9L"
      },
      "execution_count": 145,
      "outputs": []
    },
    {
      "cell_type": "code",
      "source": [
        "def calculateDistance(intercept1, intecerpt2):\n",
        "  Lat1, Lon1 = intercept1\n",
        "  Lat2, Lon2 = intecerpt2\n",
        "  difLat = toRadians(Lat2 - Lat1)\n",
        "  difLon = toRadians(Lon2 - Lon1)\n",
        "\n",
        "  a = math.sin(difLat/2)**2 + math.cos(toRadians(Lat1))*math.cos(toRadians(Lat2))*(math.sin(difLon/2))**2\n",
        "  c = 2*math.atan2(math.sqrt(a),math.sqrt(1-a))\n",
        "\n",
        "  return  6371000.0*c"
      ],
      "metadata": {
        "id": "WdD1UzAj4Q48"
      },
      "execution_count": 146,
      "outputs": []
    },
    {
      "cell_type": "code",
      "source": [
        "def createGraph(streets, intercepts, nodes):\n",
        "    G = [[] for i in range(len(streets.keys()))]\n",
        "    \n",
        "    for intercept in streets.keys():\n",
        "        for street in streets[intercept]:\n",
        "            neighbours = []\n",
        "            for point in intercepts[street]:\n",
        "                if point != intercept:\n",
        "                    neighbours.append([point, calculateDistance(intercept, point)])\n",
        "            \n",
        "            if len(neighbours) > 1:\n",
        "                neighbours.sort(key=lambda ls: ls[1])\n",
        "                neighbours = neighbours[0:2]\n",
        "                if calculateDistance(neighbours[0][0], neighbours[1][0]) < neighbours[1][1]:\n",
        "                    neighbours.pop()\n",
        "                \n",
        "                G[nodes[intercept]].extend([[nodes[neighbours[x][0]], neighbours[x][1]] for x in range(len(neighbours))])\n",
        "                \n",
        "            elif len(neighbours) > 0:\n",
        "                G[nodes[intercept]].append([nodes[neighbours[0][0]], neighbours[0][1]])\n",
        "    \n",
        "    return G"
      ],
      "metadata": {
        "id": "xwojM-pM4SYK"
      },
      "execution_count": 147,
      "outputs": []
    },
    {
      "cell_type": "code",
      "source": [
        "G_al = createGraph(streets, intercepts, nodes)"
      ],
      "metadata": {
        "id": "Mw0-oO1m4UmL"
      },
      "execution_count": 148,
      "outputs": []
    },
    {
      "cell_type": "code",
      "source": [
        "f = open(\"weighted_graph.al\", \"w\")\n",
        "f.write(str(len(G_al))+'\\n')\n",
        "c = 0\n",
        "for line in G_al:\n",
        "    f.write(str(c)+' ')\n",
        "    if len(line) > 0:\n",
        "        for x, y in line:\n",
        "            f.write(str(x)+','+str(y)+' ')\n",
        "    else:\n",
        "        f.write('-')\n",
        "    f.write('\\n')\n",
        "    c += 1"
      ],
      "metadata": {
        "id": "dGNlKJe04WnM"
      },
      "execution_count": 149,
      "outputs": []
    },
    {
      "cell_type": "code",
      "source": [
        "with open(\"weighted_graph.al\", \"r\") as f:\n",
        "    n = int(f.readline().strip())\n",
        "    G = [[] for _ in range(n)]\n",
        "    \n",
        "    for line in f:\n",
        "        line = line.strip().split()\n",
        "        u = int(line[0])\n",
        "        for pair in line[1:]:\n",
        "            G[u].append([int(v), float(w)] for v, w in pair.split(sep=','))"
      ],
      "metadata": {
        "id": "rtdHQfK94fI-"
      },
      "execution_count": 150,
      "outputs": []
    },
    {
      "cell_type": "code",
      "source": [
        "pip install perlin_noise"
      ],
      "metadata": {
        "colab": {
          "base_uri": "https://localhost:8080/"
        },
        "id": "_EDZdKnR51F-",
        "outputId": "253c7393-0469-4299-edd9-dcb852975464"
      },
      "execution_count": 124,
      "outputs": [
        {
          "output_type": "stream",
          "name": "stdout",
          "text": [
            "Looking in indexes: https://pypi.org/simple, https://us-python.pkg.dev/colab-wheels/public/simple/\n",
            "Collecting perlin_noise\n",
            "  Downloading perlin_noise-1.12-py3-none-any.whl (5.3 kB)\n",
            "Installing collected packages: perlin-noise\n",
            "Successfully installed perlin-noise-1.12\n"
          ]
        }
      ]
    },
    {
      "cell_type": "code",
      "source": [
        "import matplotlib.pyplot as plt\n",
        "from perlin_noise import PerlinNoise"
      ],
      "metadata": {
        "id": "DJwgRwM753Jh"
      },
      "execution_count": 151,
      "outputs": []
    },
    {
      "cell_type": "code",
      "source": [
        "noise = PerlinNoise(octaves=3.5, seed=777)"
      ],
      "metadata": {
        "id": "Vxi8aAqu55cx"
      },
      "execution_count": 152,
      "outputs": []
    },
    {
      "cell_type": "code",
      "source": [
        "def timeFactor(time):\n",
        "    timeToTraffic = [(1, 1.5), (1, 1.3), (1, 1.1), (1, 1.2), (1, 1.5), (1, 2), (1.1, 3.2), (1.5, 5.5), \n",
        "               (1.3, 4), (1, 2.5), (1, 2), (1.1, 2.8), (1.3, 4), (1.4, 4.1), (1.1, 3), (1.1, 2.5), \n",
        "               (1.1, 2.6), (1.3, 4), (1.5, 5.2), (1.5, 5.5), (1.1, 4.4), (1, 2.2), (1, 2), (1, 1.6)]\n",
        "    \n",
        "    return timeToTraffic[int(time[:2])]"
      ],
      "metadata": {
        "id": "nrGKQh4c57gK"
      },
      "execution_count": 153,
      "outputs": []
    },
    {
      "cell_type": "code",
      "source": [
        "def addTraffic(G, nodeToIntercept, time):\n",
        "    tMin, tMax = timeFactor(time)\n",
        "    for u in range(len(G)):\n",
        "        for i in range(len(G[u])):\n",
        "            v, w = G[u][i]\n",
        "            lat, lon = map(lambda c1, c2: 10*(c1+c2)/2, nodeToIntercept[u], nodeToIntercept[v])\n",
        "            zoneFactor = noise([lat, lon]) + 0.707\n",
        "            def linearRescale(x, l, r):\n",
        "                return x*(r - l)/(0.707 - -0.707) # E [-0.707, 0.707]\n",
        "            zoneFactor = linearRescale(zoneFactor, tMin, tMax)\n",
        "            # convert to int because < 1m is a negligible value\n",
        "            G[u][i][1] = int(w * (tMin + zoneFactor))"
      ],
      "metadata": {
        "id": "NFEIGjmS587S"
      },
      "execution_count": 154,
      "outputs": []
    },
    {
      "cell_type": "code",
      "source": [
        "addTraffic(G_al, nodeToIntercept, \"19:38:29\")"
      ],
      "metadata": {
        "id": "iMGyyvNT5-8f"
      },
      "execution_count": 155,
      "outputs": []
    },
    {
      "cell_type": "code",
      "source": [
        "YenKSP(G_al,0,4294,3)"
      ],
      "metadata": {
        "colab": {
          "base_uri": "https://localhost:8080/"
        },
        "id": "pLSXb_2a6EOV",
        "outputId": "3c1b75dc-34f6-4eaa-af6e-f6a2205d0c05"
      },
      "execution_count": 156,
      "outputs": [
        {
          "output_type": "execute_result",
          "data": {
            "text/plain": [
              "[{'cost': 1437, 'path': [0, 4872, 329, 616, 4906, 4294]},\n",
              " {'cost': 1579, 'path': [0, 2454, 8573, 8310, 4785, 4294]},\n",
              " {'cost': 2184, 'path': [0, 2454, 8573, 8310, 4785, 5857, 7763, 1832, 4294]}]"
            ]
          },
          "metadata": {},
          "execution_count": 156
        }
      ]
    },
    {
      "cell_type": "code",
      "source": [
        "source = 4906\n",
        "sink = 4294\n",
        "for intercept in G_al[source]:\n",
        "  if intercept[0] == sink:\n",
        "    print(intercept[1])\n",
        "    break"
      ],
      "metadata": {
        "colab": {
          "base_uri": "https://localhost:8080/"
        },
        "id": "RGQxgIhf6J2O",
        "outputId": "8ce81451-5b26-4d3e-c514-029c066592d0"
      },
      "execution_count": 142,
      "outputs": [
        {
          "output_type": "stream",
          "name": "stdout",
          "text": [
            "72\n"
          ]
        }
      ]
    },
    {
      "cell_type": "code",
      "source": [
        ""
      ],
      "metadata": {
        "id": "SxvHerI08xsJ"
      },
      "execution_count": null,
      "outputs": []
    }
  ]
}