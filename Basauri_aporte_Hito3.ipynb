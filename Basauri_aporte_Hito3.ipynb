{
  "nbformat": 4,
  "nbformat_minor": 0,
  "metadata": {
    "colab": {
      "name": "Basauri_aporte_Hito3.ipynb",
      "provenance": [],
      "authorship_tag": "ABX9TyNkSA/KD4hUuZm6WrIdpGot",
      "include_colab_link": true
    },
    "kernelspec": {
      "name": "python3",
      "display_name": "Python 3"
    },
    "language_info": {
      "name": "python"
    }
  },
  "cells": [
    {
      "cell_type": "markdown",
      "metadata": {
        "id": "view-in-github",
        "colab_type": "text"
      },
      "source": [
        "<a href=\"https://colab.research.google.com/github/z3r0st/TF-201711448-20181C074-202021767/blob/main/Basauri_aporte_Hito3.ipynb\" target=\"_parent\"><img src=\"https://colab.research.google.com/assets/colab-badge.svg\" alt=\"Open In Colab\"/></a>"
      ]
    },
    {
      "cell_type": "code",
      "execution_count": null,
      "metadata": {
        "id": "keyL3gZ8SnvH"
      },
      "outputs": [],
      "source": [
        "def reescalado(val,rangeMin, rangeMax):\n",
        "  rangeReal = rangeMax - rangeMin\n",
        "  val += 1\n",
        "  return rangeMin + ((rangeReal*val)/2.0)"
      ]
    },
    {
      "cell_type": "code",
      "source": [
        "reescalado(-0.5,1,100)"
      ],
      "metadata": {
        "colab": {
          "base_uri": "https://localhost:8080/"
        },
        "id": "qJVn-YgMUO3r",
        "outputId": "09930aca-c8fd-4fdc-e5b5-b7178f5dba1e"
      },
      "execution_count": null,
      "outputs": [
        {
          "output_type": "execute_result",
          "data": {
            "text/plain": [
              "25.75"
            ]
          },
          "metadata": {},
          "execution_count": 4
        }
      ]
    },
    {
      "cell_type": "code",
      "source": [
        "import heapq as hq\n",
        "import math"
      ],
      "metadata": {
        "id": "-EdcLOnIUmks"
      },
      "execution_count": 11,
      "outputs": []
    },
    {
      "cell_type": "code",
      "source": [
        "def __path(path, s, t):\n",
        "  i = t\n",
        "  route = [i]\n",
        "  while i!=s:\n",
        "    route.append(path[i])\n",
        "    i = path[i]\n",
        "    if path[i] == -1 and i != s:\n",
        "      return []\n",
        "  route.reverse()\n",
        "  return route"
      ],
      "metadata": {
        "id": "WVywhflEDMpY"
      },
      "execution_count": 12,
      "outputs": []
    },
    {
      "cell_type": "code",
      "source": [
        "def dijkstra(G, s, t = None):\n",
        "  n = len(G)\n",
        "  visited = [False]*n\n",
        "  path = [-1]*n\n",
        "  cost = [math.inf]*n\n",
        "\n",
        "  cost[s] = 0\n",
        "  pqueue = [(0, s)]\n",
        "  while pqueue:\n",
        "    g, u = hq.heappop(pqueue)\n",
        "    if not visited[u]:\n",
        "      visited[u] = True\n",
        "      for v, w in G[u]:\n",
        "        if not visited[v]:\n",
        "          f = g + w\n",
        "          if f < cost[v]:\n",
        "            cost[v] = f\n",
        "            path[v] = u\n",
        "            hq.heappush(pqueue, (f, v))\n",
        "  if t:\n",
        "    return [__path(path, s, t), cost[t]]\n",
        "  else: \n",
        "    return path, cost"
      ],
      "metadata": {
        "id": "2OjQDgaX5fzi"
      },
      "execution_count": 60,
      "outputs": []
    },
    {
      "cell_type": "code",
      "source": [
        "def remove_edge(G, n_from, n_to):\n",
        "  cost = None\n",
        "  for i in range(len(G[n_from])):\n",
        "    if G[n_from][i][0] == n_to:\n",
        "      cost = G[n_from][i][1]\n",
        "      if cost == math.inf:\n",
        "        return -1\n",
        "      else:\n",
        "        G[n_from][i][1] = math.inf\n",
        "        return cost"
      ],
      "metadata": {
        "id": "Kug6z9Elgns3"
      },
      "execution_count": 65,
      "outputs": []
    },
    {
      "cell_type": "code",
      "source": [
        "def append_edge(G, n_from, n_to, cost):\n",
        "  for intercept in G[n_from]:\n",
        "    if intercept[0] == n_to:\n",
        "      intercept[1] = cost\n",
        "      return"
      ],
      "metadata": {
        "id": "Mfr-KGCIpImd"
      },
      "execution_count": 62,
      "outputs": []
    },
    {
      "cell_type": "code",
      "source": [
        "def YenKSP(G, init, end, K):\n",
        "  global_path,costs = dijkstra(G, init)\n",
        "  A = [{\n",
        "      'cost': costs[end],\n",
        "      'path': __path(global_path, init, end)\n",
        "  }]\n",
        "  B = []\n",
        "\n",
        "  if A[0]['path'] == []: return A\n",
        "\n",
        "  for k in range(1, K):\n",
        "    for i in range(0, len(A[k-1]['path'])-1):\n",
        "      spurNode = A[k -1]['path'][i]\n",
        "      rootPath = A[k -1]['path'][:i+1]\n",
        "\n",
        "      temp_removed = []\n",
        "      for p in A:\n",
        "        if rootPath == p['path'][:i+1]:\n",
        "          cost = remove_edge(G,p['path'][i],p['path'][i+1])\n",
        "          if cost != -1:\n",
        "            #continue\n",
        "            temp_removed.append([p['path'][i],p['path'][i+1],cost])\n",
        "          #temp_removed.append([p['path'][i],p['path'][i+1],cost]) #swap\n",
        "      \n",
        "      spurPath = dijkstra(G, spurNode, end)\n",
        "\n",
        "      validate = True\n",
        "\n",
        "      for p in A:\n",
        "        if all(i in p for i in spurPath[0]):\n",
        "          validate = False\n",
        "\n",
        "      if spurPath != [] and validate == True:\n",
        "        totalPath = rootPath[:-1] + spurPath[0]\n",
        "        totalCost = costs[spurNode] + spurPath[1]\n",
        "        candidate = {'cost': totalCost, 'path': totalPath}\n",
        "\n",
        "        if not (candidate in B) and not (candidate in A):\n",
        "          B.append(candidate)\n",
        "      \n",
        "      for temp in temp_removed:\n",
        "        append_edge(G, temp[0], temp[1], temp[2])\n",
        "    if len(B) == 0:\n",
        "      break\n",
        "    B = sorted(B, key = lambda d: d['cost'])\n",
        "    A.append(B.pop(0))\n",
        "  return A"
      ],
      "metadata": {
        "id": "fwfYyrph5glp"
      },
      "execution_count": 66,
      "outputs": []
    },
    {
      "cell_type": "code",
      "source": [
        "list_listo = [1,2,3,4,5,6,7]\n",
        "listita = [1,2,3,5]\n",
        "if all(i in list_listo for i in listita):\n",
        "  print(\"a\")"
      ],
      "metadata": {
        "colab": {
          "base_uri": "https://localhost:8080/"
        },
        "id": "glLjSBLsIPWj",
        "outputId": "31b0a4f3-dc9c-4147-ec1b-185b3ff0e76c"
      },
      "execution_count": 50,
      "outputs": [
        {
          "output_type": "stream",
          "name": "stdout",
          "text": [
            "a\n"
          ]
        }
      ]
    },
    {
      "cell_type": "markdown",
      "source": [
        "#Testing"
      ],
      "metadata": {
        "id": "SfUnnLeXyUGN"
      }
    },
    {
      "cell_type": "code",
      "source": [
        "%%file 0502.al\n",
        "1 2 3 2 4 9\n",
        "0 2 2 1 3 2 5 2\n",
        "1 1 4 2 6 2\n",
        "0 2 1 2 5 9 7 3\n",
        "0 9 2 2 7 8\n",
        "1 2 3 9 6 7\n",
        "2 2 5 7 7 3\n",
        "3 3 4 8 6 3"
      ],
      "metadata": {
        "colab": {
          "base_uri": "https://localhost:8080/"
        },
        "id": "UP8lXipNGpLv",
        "outputId": "6cd75bd0-3f94-4112-cc89-3aa2782c8527"
      },
      "execution_count": 76,
      "outputs": [
        {
          "output_type": "stream",
          "name": "stdout",
          "text": [
            "Overwriting 0502.al\n"
          ]
        }
      ]
    },
    {
      "cell_type": "code",
      "source": [
        "with open(\"0502.al\") as f:\n",
        "  G = []\n",
        "  for line in f:\n",
        "    nums = [int(x) for x in line.split()]\n",
        "    G.append([])\n",
        "    for i in range(0, len(nums), 2):\n",
        "      G[-1].append([nums[i], nums[i+1]])\n",
        "\n",
        "for x in G:\n",
        "  print(x)"
      ],
      "metadata": {
        "colab": {
          "base_uri": "https://localhost:8080/"
        },
        "id": "qSe6ICZKGqhl",
        "outputId": "cf0646fa-16ee-4d0a-e359-597f42c6a0d0"
      },
      "execution_count": 77,
      "outputs": [
        {
          "output_type": "stream",
          "name": "stdout",
          "text": [
            "[[1, 2], [3, 2], [4, 9]]\n",
            "[[0, 2], [2, 1], [3, 2], [5, 2]]\n",
            "[[1, 1], [4, 2], [6, 2]]\n",
            "[[0, 2], [1, 2], [5, 9], [7, 3]]\n",
            "[[0, 9], [2, 2], [7, 8]]\n",
            "[[1, 2], [3, 9], [6, 7]]\n",
            "[[2, 2], [5, 7], [7, 3]]\n",
            "[[3, 3], [4, 8], [6, 3]]\n"
          ]
        }
      ]
    },
    {
      "cell_type": "code",
      "source": [
        "dijkstra(G,3,6)"
      ],
      "metadata": {
        "colab": {
          "base_uri": "https://localhost:8080/"
        },
        "id": "AVdeyPqg-3wA",
        "outputId": "67d5e34b-0c80-4077-a82e-3957df64be87"
      },
      "execution_count": 78,
      "outputs": [
        {
          "output_type": "stream",
          "name": "stdout",
          "text": [
            "[False, False, False, True, False, False, False, False]\n",
            "[True, False, False, True, False, False, False, False]\n",
            "[True, True, False, True, False, False, False, False]\n",
            "[True, True, True, True, False, False, False, False]\n",
            "[True, True, True, True, False, False, False, True]\n",
            "[True, True, True, True, False, True, False, True]\n",
            "[True, True, True, True, True, True, False, True]\n",
            "[True, True, True, True, True, True, True, True]\n"
          ]
        },
        {
          "output_type": "execute_result",
          "data": {
            "text/plain": [
              "[[3, 1, 2, 6], 5]"
            ]
          },
          "metadata": {},
          "execution_count": 78
        }
      ]
    },
    {
      "cell_type": "code",
      "source": [
        "YenKSP(G,3,6,3)"
      ],
      "metadata": {
        "colab": {
          "base_uri": "https://localhost:8080/"
        },
        "id": "W-DING2EZCzF",
        "outputId": "5cdb5015-c77c-494b-af8a-ef84f8818d06"
      },
      "execution_count": 46,
      "outputs": [
        {
          "output_type": "execute_result",
          "data": {
            "text/plain": [
              "[{'cost': 5, 'path': [3, 1, 2, 6]},\n",
              " {'cost': 6, 'path': [3, 7, 6]},\n",
              " {'cost': 7, 'path': [3, 0, 1, 2, 6]}]"
            ]
          },
          "metadata": {},
          "execution_count": 46
        }
      ]
    },
    {
      "cell_type": "code",
      "source": [
        "import requests"
      ],
      "metadata": {
        "id": "FlR7s1V5xoQc"
      },
      "execution_count": 17,
      "outputs": []
    },
    {
      "cell_type": "code",
      "source": [
        "url = \"https://raw.githubusercontent.com/z3r0st/TF-201711448-20181C074-202021767/main/SF_street_intersections.csv\"\n",
        "file = requests.get(url).content\n",
        "f = file.decode('utf-8')\n",
        "\n",
        "data = f.split(sep='\\n')[1:]\n",
        "intercepts = dict()\n",
        "streets = dict()\n",
        "nodes = dict()\n",
        "nodeToIntercept = dict()\n",
        "c = 0\n",
        "for line in data:\n",
        "    if(len(line) == 0):\n",
        "        continue\n",
        "    street, point = line.split(sep=',')[1:3]\n",
        "    lon, lat = point[7:-2].split()\n",
        "    intercept = (float(lat), float(lon))\n",
        "    if street in intercepts.keys():\n",
        "        intercepts[street].append(intercept)\n",
        "    else:\n",
        "        intercepts[street] = [intercept]\n",
        "    if intercept in streets.keys():\n",
        "        streets[intercept].append(street)\n",
        "    else:\n",
        "        streets[intercept] = [street]\n",
        "        nodes[intercept] = c\n",
        "        nodeToIntercept[c] = intercept\n",
        "        c += 1"
      ],
      "metadata": {
        "id": "b9vCz0pr4KAR"
      },
      "execution_count": 18,
      "outputs": []
    },
    {
      "cell_type": "code",
      "source": [
        "def toRadians(valor):\n",
        "  return (math.pi/180.0)*valor"
      ],
      "metadata": {
        "id": "9jxRQjmm4M9L"
      },
      "execution_count": 19,
      "outputs": []
    },
    {
      "cell_type": "code",
      "source": [
        "def calculateDistance(intercept1, intecerpt2):\n",
        "  Lat1, Lon1 = intercept1\n",
        "  Lat2, Lon2 = intecerpt2\n",
        "  difLat = toRadians(Lat2 - Lat1)\n",
        "  difLon = toRadians(Lon2 - Lon1)\n",
        "\n",
        "  a = math.sin(difLat/2)**2 + math.cos(toRadians(Lat1))*math.cos(toRadians(Lat2))*(math.sin(difLon/2))**2\n",
        "  c = 2*math.atan2(math.sqrt(a),math.sqrt(1-a))\n",
        "\n",
        "  return  6371000.0*c"
      ],
      "metadata": {
        "id": "WdD1UzAj4Q48"
      },
      "execution_count": 20,
      "outputs": []
    },
    {
      "cell_type": "code",
      "source": [
        "def createGraph(streets, intercepts, nodes):\n",
        "    G = [[] for i in range(len(streets.keys()))]\n",
        "    \n",
        "    for intercept in streets.keys():\n",
        "        for street in streets[intercept]:\n",
        "            neighbours = []\n",
        "            for point in intercepts[street]:\n",
        "                if point != intercept:\n",
        "                    neighbours.append([point, calculateDistance(intercept, point)])\n",
        "            \n",
        "            if len(neighbours) > 1:\n",
        "                neighbours.sort(key=lambda ls: ls[1])\n",
        "                neighbours = neighbours[0:2]\n",
        "                if calculateDistance(neighbours[0][0], neighbours[1][0]) < neighbours[0][1]:\n",
        "                    neighbours.pop()\n",
        "                \n",
        "                G[nodes[intercept]].extend([[nodes[neighbours[x][0]], neighbours[x][1]] for x in range(len(neighbours))])\n",
        "                \n",
        "            elif len(neighbours) > 0:\n",
        "                G[nodes[intercept]].append([nodes[neighbours[0][0]], neighbours[0][1]])\n",
        "    \n",
        "    return G"
      ],
      "metadata": {
        "id": "xwojM-pM4SYK"
      },
      "execution_count": 21,
      "outputs": []
    },
    {
      "cell_type": "code",
      "source": [
        "G_al = createGraph(streets, intercepts, nodes)"
      ],
      "metadata": {
        "id": "Mw0-oO1m4UmL"
      },
      "execution_count": 22,
      "outputs": []
    },
    {
      "cell_type": "code",
      "source": [
        "f = open(\"weighted_graph.al\", \"w\")\n",
        "f.write(str(len(G_al))+'\\n')\n",
        "c = 0\n",
        "for line in G_al:\n",
        "    f.write(str(c)+' ')\n",
        "    if len(line) > 0:\n",
        "        for x, y in line:\n",
        "            f.write(str(x)+','+str(y)+' ')\n",
        "    else:\n",
        "        f.write('-')\n",
        "    f.write('\\n')\n",
        "    c += 1"
      ],
      "metadata": {
        "id": "dGNlKJe04WnM"
      },
      "execution_count": 23,
      "outputs": []
    },
    {
      "cell_type": "code",
      "source": [
        "with open(\"weighted_graph.al\", \"r\") as f:\n",
        "    n = int(f.readline().strip())\n",
        "    G = [[] for _ in range(n)]\n",
        "    \n",
        "    for line in f:\n",
        "        line = line.strip().split()\n",
        "        u = int(line[0])\n",
        "        for pair in line[1:]:\n",
        "            G[u].append([int(v), float(w)] for v, w in pair.split(sep=','))"
      ],
      "metadata": {
        "id": "rtdHQfK94fI-"
      },
      "execution_count": 24,
      "outputs": []
    },
    {
      "cell_type": "code",
      "source": [
        "pip install perlin_noise"
      ],
      "metadata": {
        "colab": {
          "base_uri": "https://localhost:8080/"
        },
        "id": "_EDZdKnR51F-",
        "outputId": "3e67bdf4-b39e-41ce-e082-d64f954f7432"
      },
      "execution_count": 88,
      "outputs": [
        {
          "output_type": "stream",
          "name": "stdout",
          "text": [
            "Looking in indexes: https://pypi.org/simple, https://us-python.pkg.dev/colab-wheels/public/simple/\n",
            "Requirement already satisfied: perlin_noise in /usr/local/lib/python3.7/dist-packages (1.12)\n"
          ]
        }
      ]
    },
    {
      "cell_type": "code",
      "source": [
        "import matplotlib.pyplot as plt\n",
        "from perlin_noise import PerlinNoise"
      ],
      "metadata": {
        "id": "DJwgRwM753Jh"
      },
      "execution_count": 25,
      "outputs": []
    },
    {
      "cell_type": "code",
      "source": [
        "noise = PerlinNoise(octaves=3.5, seed=777)"
      ],
      "metadata": {
        "id": "Vxi8aAqu55cx"
      },
      "execution_count": 26,
      "outputs": []
    },
    {
      "cell_type": "code",
      "source": [
        "def timeFactor(time):\n",
        "    timeToTraffic = [(1, 1.5), (1, 1.3), (1, 1.1), (1, 1.2), (1, 1.5), (1, 2), (1.1, 3.2), (1.5, 5.5), \n",
        "               (1.3, 4), (1, 2.5), (1, 2), (1.1, 2.8), (1.3, 4), (1.4, 4.1), (1.1, 3), (1.1, 2.5), \n",
        "               (1.1, 2.6), (1.3, 4), (1.5, 5.2), (1.5, 5.5), (1.1, 4.4), (1, 2.2), (1, 2), (1, 1.6)]\n",
        "    \n",
        "    return timeToTraffic[int(time[:2])]"
      ],
      "metadata": {
        "id": "nrGKQh4c57gK"
      },
      "execution_count": 27,
      "outputs": []
    },
    {
      "cell_type": "code",
      "source": [
        "def addTraffic(G, nodeToIntercept, time):\n",
        "    tMin, tMax = timeFactor(time)\n",
        "    for u in range(len(G)):\n",
        "        for i in range(len(G[u])):\n",
        "            v, w = G[u][i]\n",
        "            lat, lon = map(lambda c1, c2: 10*(c1+c2)/2, nodeToIntercept[u], nodeToIntercept[v])\n",
        "            zoneFactor = noise([lat, lon]) + 0.707\n",
        "            def linearRescale(x, l, r):\n",
        "                return x*(r - l)/(0.707 - -0.707) # E [-0.707, 0.707]\n",
        "            zoneFactor = linearRescale(zoneFactor, tMin, tMax)\n",
        "            # convert to int because < 1m is a negligible value\n",
        "            G[u][i][1] = int(w * (tMin + zoneFactor))"
      ],
      "metadata": {
        "id": "NFEIGjmS587S"
      },
      "execution_count": 28,
      "outputs": []
    },
    {
      "cell_type": "code",
      "source": [
        "addTraffic(G_al, nodeToIntercept, \"19:38:29\")"
      ],
      "metadata": {
        "id": "iMGyyvNT5-8f"
      },
      "execution_count": 29,
      "outputs": []
    },
    {
      "cell_type": "code",
      "source": [
        "YenKSP(G_al,100,7861,3)"
      ],
      "metadata": {
        "colab": {
          "base_uri": "https://localhost:8080/"
        },
        "id": "pLSXb_2a6EOV",
        "outputId": "d2833c9d-84ee-4794-ecf3-a8906521d5cf"
      },
      "execution_count": 68,
      "outputs": [
        {
          "output_type": "execute_result",
          "data": {
            "text/plain": [
              "[{'cost': 2817, 'path': [100, 8902, 5981, 1530, 4377, 3310, 6307, 7861]},\n",
              " {'cost': 2817, 'path': [100, 251, 8902, 5981, 1530, 4377, 3310, 6307, 7861]},\n",
              " {'cost': 2817, 'path': [100, 8902, 5981, 789, 1530, 4377, 3310, 6307, 7861]}]"
            ]
          },
          "metadata": {},
          "execution_count": 68
        }
      ]
    },
    {
      "cell_type": "code",
      "source": [
        "for intercept in G_al[7]:\n",
        "  if intercept[0] == 922:\n",
        "    print(intercept[1])\n",
        "    break"
      ],
      "metadata": {
        "colab": {
          "base_uri": "https://localhost:8080/"
        },
        "id": "RGQxgIhf6J2O",
        "outputId": "3febabf7-40b5-4f68-9683-6b15c5f2e0a3"
      },
      "execution_count": 67,
      "outputs": [
        {
          "output_type": "stream",
          "name": "stdout",
          "text": [
            "94\n"
          ]
        }
      ]
    },
    {
      "cell_type": "code",
      "source": [
        ""
      ],
      "metadata": {
        "id": "SxvHerI08xsJ"
      },
      "execution_count": null,
      "outputs": []
    }
  ]
}