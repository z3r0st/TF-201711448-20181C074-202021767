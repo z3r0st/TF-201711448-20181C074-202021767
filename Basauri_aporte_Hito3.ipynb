{
  "nbformat": 4,
  "nbformat_minor": 0,
  "metadata": {
    "colab": {
      "name": "Basauri_aporte_Hito3.ipynb",
      "provenance": [],
      "authorship_tag": "ABX9TyOg6knwSuH/0nZ+u+caeGFr",
      "include_colab_link": true
    },
    "kernelspec": {
      "name": "python3",
      "display_name": "Python 3"
    },
    "language_info": {
      "name": "python"
    }
  },
  "cells": [
    {
      "cell_type": "markdown",
      "metadata": {
        "id": "view-in-github",
        "colab_type": "text"
      },
      "source": [
        "<a href=\"https://colab.research.google.com/github/z3r0st/TF-201711448-20181C074-202021767/blob/main/Basauri_aporte_Hito3.ipynb\" target=\"_parent\"><img src=\"https://colab.research.google.com/assets/colab-badge.svg\" alt=\"Open In Colab\"/></a>"
      ]
    },
    {
      "cell_type": "code",
      "execution_count": null,
      "metadata": {
        "id": "keyL3gZ8SnvH"
      },
      "outputs": [],
      "source": [
        "def reescalado(val,rangeMin, rangeMax):\n",
        "  rangeReal = rangeMax - rangeMin\n",
        "  val += 1\n",
        "  return rangeMin + ((rangeReal*val)/2.0)"
      ]
    },
    {
      "cell_type": "code",
      "source": [
        "reescalado(-0.5,1,100)"
      ],
      "metadata": {
        "colab": {
          "base_uri": "https://localhost:8080/"
        },
        "id": "qJVn-YgMUO3r",
        "outputId": "09930aca-c8fd-4fdc-e5b5-b7178f5dba1e"
      },
      "execution_count": null,
      "outputs": [
        {
          "output_type": "execute_result",
          "data": {
            "text/plain": [
              "25.75"
            ]
          },
          "metadata": {},
          "execution_count": 4
        }
      ]
    },
    {
      "cell_type": "code",
      "source": [
        "import heapq as hq\n",
        "import math"
      ],
      "metadata": {
        "id": "-EdcLOnIUmks"
      },
      "execution_count": 8,
      "outputs": []
    },
    {
      "cell_type": "code",
      "source": [
        "def __path(path, s, t):\n",
        "  i = t\n",
        "  route = [i]\n",
        "  while i!=s:\n",
        "    route.append(path[i])\n",
        "    i = path[i]\n",
        "    if path[i] == -1 and i != s:\n",
        "      return []\n",
        "  route.reverse()\n",
        "  return route"
      ],
      "metadata": {
        "id": "WVywhflEDMpY"
      },
      "execution_count": 27,
      "outputs": []
    },
    {
      "cell_type": "code",
      "source": [
        "def dijkstra(G, s, t = None):\n",
        "  n = len(G)\n",
        "  visited = [False]*n\n",
        "  path = [-1]*n\n",
        "  cost = [math.inf]*n\n",
        "\n",
        "  cost[s] = 0\n",
        "  pqueue = [(0, s)]\n",
        "  while pqueue:\n",
        "    g, u = hq.heappop(pqueue)\n",
        "    if not visited[u]:\n",
        "      visited[u] = True\n",
        "      for v, w in G[u]:\n",
        "        if not visited[v]:\n",
        "          f = g + w\n",
        "          if f < cost[v]:\n",
        "            cost[v] = f\n",
        "            path[v] = u\n",
        "            hq.heappush(pqueue, (f, v))\n",
        "  if t:\n",
        "    return [__path(path, s, t), cost[t]]\n",
        "  else: \n",
        "    return path, cost"
      ],
      "metadata": {
        "id": "2OjQDgaX5fzi"
      },
      "execution_count": 28,
      "outputs": []
    },
    {
      "cell_type": "code",
      "source": [
        "def remove_edge(G, n_from, n_to):\n",
        "  cost = None\n",
        "  for intercept in G[n_from]:\n",
        "    if intercept[0] == n_to:\n",
        "      cost = intercept[1]\n",
        "      if cost == math.inf:\n",
        "        return -1\n",
        "      else:\n",
        "        intercept[1] = math.inf\n",
        "        return cost"
      ],
      "metadata": {
        "id": "Kug6z9Elgns3"
      },
      "execution_count": 43,
      "outputs": []
    },
    {
      "cell_type": "code",
      "source": [
        "def append_edge(G, n_from, n_to, cost):\n",
        "  for intercept in G[n_from]:\n",
        "    if intercept[0] == n_to:\n",
        "      intercept[1] = cost\n",
        "      return"
      ],
      "metadata": {
        "id": "Mfr-KGCIpImd"
      },
      "execution_count": 44,
      "outputs": []
    },
    {
      "cell_type": "code",
      "source": [
        "def YenKSP(G, init, end, K):\n",
        "  global_path,costs = dijkstra(G, init)\n",
        "  A = [{\n",
        "      'cost': costs[end],\n",
        "      'path': __path(global_path, init, end)\n",
        "  }]\n",
        "  B = []\n",
        "\n",
        "  if A[0]['path'] == []: return A\n",
        "\n",
        "  for k in range(1, K):\n",
        "    for i in range(0, len(A[k-1]['path'])-1):\n",
        "      spurNode = A[k -1]['path'][i]\n",
        "      rootPath = A[k -1]['path'][:i+1]\n",
        "\n",
        "      temp_removed = []\n",
        "      for p in A:\n",
        "        if rootPath == p['path'][:i+1]:\n",
        "          cost = remove_edge(G,p['path'][i],p['path'][i+1])\n",
        "          if cost == -1:\n",
        "            continue\n",
        "          temp_removed.append([p['path'][i],p['path'][i+1],cost])\n",
        "      \n",
        "      spurPath = dijkstra(G, spurNode, end)\n",
        "\n",
        "      if spurPath != []:\n",
        "        totalPath = rootPath[:-1] + spurPath[0]\n",
        "        totalCost = costs[spurNode] + spurPath[1]\n",
        "        candidate = {'cost': totalCost, 'path': totalPath}\n",
        "\n",
        "        if not (candidate in B) and not (candidate in A):\n",
        "          B.append(candidate)\n",
        "      \n",
        "      for temp in temp_removed:\n",
        "        append_edge(G, temp[0], temp[1], temp[2])\n",
        "    if len(B) == 0:\n",
        "      break\n",
        "    B = sorted(B, key = lambda d: d['cost'])\n",
        "    A.append(B[0])\n",
        "    B.pop(0)\n",
        "  return A"
      ],
      "metadata": {
        "id": "fwfYyrph5glp"
      },
      "execution_count": 45,
      "outputs": []
    },
    {
      "cell_type": "markdown",
      "source": [
        "#Testing"
      ],
      "metadata": {
        "id": "SfUnnLeXyUGN"
      }
    },
    {
      "cell_type": "code",
      "source": [
        "%%file 0502.al\n",
        "1 2 3 2 4 9\n",
        "0 2 2 1 3 2 5 2\n",
        "1 1 4 2 6 2\n",
        "0 2 1 2 5 9 7 3\n",
        "0 9 2 2 7 8\n",
        "1 2 3 9 6 7\n",
        "2 2 5 7 7 3\n",
        "3 3 4 8 6 3"
      ],
      "metadata": {
        "colab": {
          "base_uri": "https://localhost:8080/"
        },
        "id": "UP8lXipNGpLv",
        "outputId": "82a0b614-4b47-4c31-ef9c-dafe4f3f0676"
      },
      "execution_count": 29,
      "outputs": [
        {
          "output_type": "stream",
          "name": "stdout",
          "text": [
            "Overwriting 0502.al\n"
          ]
        }
      ]
    },
    {
      "cell_type": "code",
      "source": [
        "with open(\"0502.al\") as f:\n",
        "  G = []\n",
        "  for line in f:\n",
        "    nums = [int(x) for x in line.split()]\n",
        "    G.append([])\n",
        "    for i in range(0, len(nums), 2):\n",
        "      G[-1].append([nums[i], nums[i+1]])\n",
        "\n",
        "for x in G:\n",
        "  print(x)"
      ],
      "metadata": {
        "colab": {
          "base_uri": "https://localhost:8080/"
        },
        "id": "qSe6ICZKGqhl",
        "outputId": "1214f0ae-90a1-4bca-e0f0-ce1964a03100"
      },
      "execution_count": 37,
      "outputs": [
        {
          "output_type": "stream",
          "name": "stdout",
          "text": [
            "[[1, 2], [3, 2], [4, 9]]\n",
            "[[0, 2], [2, 1], [3, 2], [5, 2]]\n",
            "[[1, 1], [4, 2], [6, 2]]\n",
            "[[0, 2], [1, 2], [5, 9], [7, 3]]\n",
            "[[0, 9], [2, 2], [7, 8]]\n",
            "[[1, 2], [3, 9], [6, 7]]\n",
            "[[2, 2], [5, 7], [7, 3]]\n",
            "[[3, 3], [4, 8], [6, 3]]\n"
          ]
        }
      ]
    },
    {
      "cell_type": "code",
      "source": [
        "YenKSP(G,3,6,3)"
      ],
      "metadata": {
        "colab": {
          "base_uri": "https://localhost:8080/"
        },
        "id": "W-DING2EZCzF",
        "outputId": "5cdb5015-c77c-494b-af8a-ef84f8818d06"
      },
      "execution_count": 46,
      "outputs": [
        {
          "output_type": "execute_result",
          "data": {
            "text/plain": [
              "[{'cost': 5, 'path': [3, 1, 2, 6]},\n",
              " {'cost': 6, 'path': [3, 7, 6]},\n",
              " {'cost': 7, 'path': [3, 0, 1, 2, 6]}]"
            ]
          },
          "metadata": {},
          "execution_count": 46
        }
      ]
    },
    {
      "cell_type": "code",
      "source": [
        ""
      ],
      "metadata": {
        "id": "FlR7s1V5xoQc"
      },
      "execution_count": null,
      "outputs": []
    }
  ]
}