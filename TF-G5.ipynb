{
 "cells": [
  {
   "cell_type": "markdown",
   "id": "adf16903",
   "metadata": {},
   "source": [
    "# Data Capture"
   ]
  },
  {
   "cell_type": "code",
   "execution_count": 1,
   "id": "244fe178",
   "metadata": {},
   "outputs": [],
   "source": [
    "with open(\"https://raw.githubusercontent.com/z3r0st/TF-201711448-20181C074-202021767/main/SF_street_intersections.csv\") as f:\n",
    "    data = f.readlines()[1:]\n",
    "    intercepts = dict()\n",
    "    streets = dict()\n",
    "    nodes = dict()\n",
    "    nodeToIntercept = dict()\n",
    "    c = 0\n",
    "    for line in data:\n",
    "        street, point = line.strip().split(sep=',')[1:3]\n",
    "        lon, lat = point[7:-2].split()\n",
    "        intercept = (float(lat), float(lon))\n",
    "        if street in intercepts.keys():\n",
    "            intercepts[street].append(intercept)\n",
    "        else:\n",
    "            intercepts[street] = [intercept]\n",
    "        if intercept in streets.keys():\n",
    "            streets[intercept].append(street)\n",
    "        else:\n",
    "            streets[intercept] = [street]\n",
    "            nodes[intercept] = c\n",
    "            nodeToIntercept[c] = intercept\n",
    "            c += 1"
   ]
  },
  {
   "cell_type": "code",
   "execution_count": 2,
   "id": "7eaffe57",
   "metadata": {},
   "outputs": [
    {
     "data": {
      "text/plain": [
       "[(37.7543372313743, -122.40545417189192),\n",
       " (37.76841488233248, -122.40679858931149),\n",
       " (37.7607529052339, -122.40606109793055),\n",
       " (37.7619964030768, -122.4061819835959),\n",
       " (37.7658422711544, -122.40655282446389),\n",
       " (37.7512810744602, -122.40515881630326),\n",
       " (37.7594458071505, -122.40593403378597),\n",
       " (37.769298557428, -122.40688239974939),\n",
       " (37.7562225803215, -122.40521698628322),\n",
       " (37.7645476536961, -122.40642915445186),\n",
       " (37.7517869480963, -122.40520770296072),\n",
       " (37.7632538870406, -122.40630557076001),\n",
       " (37.75692043860479, -122.40525954218414),\n",
       " (37.753063831974, -122.40533110370748),\n",
       " (37.7671421818598, -122.40667700476389)]"
      ]
     },
     "execution_count": 2,
     "metadata": {},
     "output_type": "execute_result"
    }
   ],
   "source": [
    "intercepts['UTAH']"
   ]
  },
  {
   "cell_type": "code",
   "execution_count": 4,
   "id": "297d1a27",
   "metadata": {},
   "outputs": [
    {
     "data": {
      "text/plain": [
       "['UTAH', '23RD']"
      ]
     },
     "execution_count": 4,
     "metadata": {},
     "output_type": "execute_result"
    }
   ],
   "source": [
    "streets[(37.7543372313743, -122.40545417189192)]"
   ]
  },
  {
   "cell_type": "markdown",
   "id": "dc1fd687",
   "metadata": {},
   "source": [
    "# Graph creation"
   ]
  },
  {
   "cell_type": "code",
   "execution_count": 5,
   "id": "36a4c331",
   "metadata": {},
   "outputs": [],
   "source": [
    "import math"
   ]
  },
  {
   "cell_type": "code",
   "execution_count": 6,
   "id": "5dab6bf4",
   "metadata": {},
   "outputs": [],
   "source": [
    "def calculateDistance(p1, p2):\n",
    "    return math.sqrt(sum((map(lambda c1, c2: (abs(c1 - c2))**2, p1, p2))))"
   ]
  },
  {
   "cell_type": "code",
   "execution_count": 7,
   "id": "c3eea7ea",
   "metadata": {},
   "outputs": [],
   "source": [
    "def createGraph(streets, intercepts, nodes):\n",
    "    G = [[] for i in range(len(streets.keys()))]\n",
    "    \n",
    "    for intercept in streets.keys():\n",
    "        for street in streets[intercept]:\n",
    "            neighbours = []\n",
    "            for point in intercepts[street]:\n",
    "                if point != intercept:\n",
    "                    neighbours.append([point, calculateDistance(intercept, point)])\n",
    "            \n",
    "            if len(neighbours) > 1:\n",
    "                neighbours.sort(key=lambda ls: ls[1])\n",
    "                neighbours = neighbours[0:2]\n",
    "                if calculateDistance(neighbours[0][0], neighbours[1][0]) < neighbours[0][1]:\n",
    "                    neighbours.pop()\n",
    "                \n",
    "                G[nodes[intercept]].extend([(nodes[neighbours[x][0]], neighbours[x][1]) for x in range(len(neighbours))])\n",
    "                \n",
    "            elif len(neighbours) > 0:\n",
    "                G[nodes[intercept]].append((nodes[neighbours[0][0]], neighbours[0][1]))\n",
    "    \n",
    "    return G"
   ]
  },
  {
   "cell_type": "code",
   "execution_count": 8,
   "id": "9220b810",
   "metadata": {},
   "outputs": [
    {
     "data": {
      "text/plain": [
       "[[(5321, 0.001279332564541968),\n",
       "  (4872, 0.0019002099004250016),\n",
       "  (2454, 0.0004229534575241186),\n",
       "  (8573, 0.0009715734739870846)],\n",
       " [(1008, 0.002279321782435222),\n",
       "  (4536, 0.0022857436509651622),\n",
       "  (1357, 0.0007432058788233657),\n",
       "  (5223, 0.0007838542254648449)],\n",
       " [(3200, 0.0014649646878627464),\n",
       "  (6538, 0.002909104332341213),\n",
       "  (4320, 0.0009157862760744407),\n",
       "  (2191, 0.0025492698662097717)],\n",
       " [(5578, 0.0008484919437821345),\n",
       "  (2376, 0.0009084006418334457),\n",
       "  (2101, 0.0006936784915827566),\n",
       "  (869, 0.001718569154048307)],\n",
       " [(1085, 0.0007231436583603764),\n",
       "  (5531, 0.001977372037544103),\n",
       "  (1828, 0.0008728518115993503),\n",
       "  (876, 0.0013408286713585027),\n",
       "  (7151, 0.001293435864896755),\n",
       "  (1828, 0.0008728518115993503),\n",
       "  (2074, 0.0021884950339751065)],\n",
       " [(7551, 0.00039627977183124603)],\n",
       " [(4830, 0.0018692789906829517),\n",
       "  (8226, 0.001873278978402213),\n",
       "  (3731, 0.001072010643674649),\n",
       "  (9221, 0.001074680974494794)],\n",
       " [(3659, 0.0007360440921043738),\n",
       "  (2939, 3.707124060651967e-05),\n",
       "  (922, 0.0002583889335581776)],\n",
       " [(1685, 0.0007560419712179187),\n",
       "  (7096, 0.0004591211835931079),\n",
       "  (6930, 0.0009029201043981679),\n",
       "  (8285, 0.000901064942386902),\n",
       "  (3255, 0.002146957223780313)],\n",
       " [(3790, 0.0003741146229299209),\n",
       "  (2888, 0.0010459536733352167),\n",
       "  (847, 0.0008545688568844885)]]"
      ]
     },
     "execution_count": 8,
     "metadata": {},
     "output_type": "execute_result"
    }
   ],
   "source": [
    "G_al = createGraph(streets, intercepts, nodes)\n",
    "G_al[0:10]"
   ]
  },
  {
   "cell_type": "code",
   "execution_count": 9,
   "id": "58f350ea",
   "metadata": {},
   "outputs": [
    {
     "data": {
      "text/plain": [
       "(5096, 0.0009696380181669667)"
      ]
     },
     "execution_count": 9,
     "metadata": {},
     "output_type": "execute_result"
    }
   ],
   "source": [
    "G_al[G_al[0][0][0]][0]"
   ]
  },
  {
   "cell_type": "markdown",
   "id": "fc5da05d",
   "metadata": {},
   "source": [
    "## Testing the distance calculation (Km)"
   ]
  },
  {
   "cell_type": "code",
   "execution_count": 10,
   "id": "3296659b",
   "metadata": {},
   "outputs": [
    {
     "data": {
      "text/plain": [
       "(37.7543372313743, -122.40545417189192)"
      ]
     },
     "execution_count": 10,
     "metadata": {},
     "output_type": "execute_result"
    }
   ],
   "source": [
    "nodeToIntercept[0]"
   ]
  },
  {
   "cell_type": "code",
   "execution_count": 11,
   "id": "d2bdc274",
   "metadata": {},
   "outputs": [
    {
     "data": {
      "text/plain": [
       "(37.753063831974, -122.40533110370748)"
      ]
     },
     "execution_count": 11,
     "metadata": {},
     "output_type": "execute_result"
    }
   ],
   "source": [
    "nodeToIntercept[5321]"
   ]
  },
  {
   "cell_type": "code",
   "execution_count": 12,
   "id": "e9594b1c",
   "metadata": {},
   "outputs": [
    {
     "data": {
      "text/plain": [
       "0.001279332564541968"
      ]
     },
     "execution_count": 12,
     "metadata": {},
     "output_type": "execute_result"
    }
   ],
   "source": [
    "calculateDistance(nodeToIntercept[0], nodeToIntercept[5321])"
   ]
  },
  {
   "cell_type": "code",
   "execution_count": 13,
   "id": "58d1e146",
   "metadata": {},
   "outputs": [],
   "source": [
    "assert 0 in [v for v, w in G_al[G_al[0][0][0]]]\n",
    "assert 0 in [v for v, w in G_al[G_al[0][1][0]]]"
   ]
  },
  {
   "cell_type": "markdown",
   "id": "b9fe4bd1",
   "metadata": {},
   "source": [
    "# Tests"
   ]
  },
  {
   "cell_type": "code",
   "execution_count": 14,
   "id": "2e9e39f4",
   "metadata": {},
   "outputs": [],
   "source": [
    "def commonStreet(ls1, ls2):\n",
    "    for street in ls1:\n",
    "        if street in ls2:\n",
    "            return True\n",
    "    return False"
   ]
  },
  {
   "cell_type": "code",
   "execution_count": 15,
   "id": "6a5356ed",
   "metadata": {},
   "outputs": [],
   "source": [
    "assert commonStreet(streets[nodeToIntercept[G_al[0][0][0]]], streets[nodeToIntercept[0]])\n",
    "assert commonStreet(streets[nodeToIntercept[G_al[0][1][0]]], streets[nodeToIntercept[0]])"
   ]
  },
  {
   "cell_type": "code",
   "execution_count": 16,
   "id": "67767f4e",
   "metadata": {},
   "outputs": [],
   "source": [
    "assert commonStreet(streets[nodeToIntercept[G_al[1][0][0]]], streets[nodeToIntercept[1]]) \n",
    "assert commonStreet(streets[nodeToIntercept[G_al[1][1][0]]], streets[nodeToIntercept[1]])"
   ]
  },
  {
   "cell_type": "markdown",
   "id": "da4a15c9",
   "metadata": {},
   "source": [
    "# Writing the graph adjacency list"
   ]
  },
  {
   "cell_type": "code",
   "execution_count": 17,
   "id": "f29c9c1e",
   "metadata": {},
   "outputs": [],
   "source": [
    "f = open(\"weighted_graph.al\", \"w\")\n",
    "c = 0\n",
    "for line in G_al:\n",
    "    f.write(str(c)+' ')\n",
    "    if len(line) > 0:\n",
    "        for x, y in line:\n",
    "            f.write(str(x)+','+str(y)+' ')\n",
    "    else:\n",
    "        f.write('-')\n",
    "    f.write('\\n')\n",
    "    c += 1"
   ]
  }
 ],
 "metadata": {
  "kernelspec": {
   "display_name": "Python 3 (ipykernel)",
   "language": "python",
   "name": "python3"
  },
  "language_info": {
   "codemirror_mode": {
    "name": "ipython",
    "version": 3
   },
   "file_extension": ".py",
   "mimetype": "text/x-python",
   "name": "python",
   "nbconvert_exporter": "python",
   "pygments_lexer": "ipython3",
   "version": "3.9.7"
  }
 },
 "nbformat": 4,
 "nbformat_minor": 5
}
