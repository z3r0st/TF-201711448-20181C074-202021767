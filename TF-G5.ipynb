{
 "cells": [
  {
   "cell_type": "markdown",
   "id": "adf16903",
   "metadata": {
    "id": "adf16903"
   },
   "source": [
    "# Data Capture"
   ]
  },
  {
   "cell_type": "code",
   "execution_count": 1,
   "id": "0508dba7",
   "metadata": {},
   "outputs": [],
   "source": [
    "import requests"
   ]
  },
  {
   "cell_type": "code",
   "execution_count": 2,
   "id": "244fe178",
   "metadata": {
    "id": "244fe178"
   },
   "outputs": [],
   "source": [
    "url = \"https://raw.githubusercontent.com/z3r0st/TF-201711448-20181C074-202021767/main/SF_street_intersections.csv\"\n",
    "file = requests.get(url).content\n",
    "f = file.decode('utf-8')\n",
    "\n",
    "data = f.split(sep='\\n')[1:]\n",
    "intercepts = dict()\n",
    "streets = dict()\n",
    "nodes = dict()\n",
    "nodeToIntercept = dict()\n",
    "c = 0\n",
    "for line in data:\n",
    "    if(len(line) == 0):\n",
    "        continue\n",
    "    street, point = line.split(sep=',')[1:3]\n",
    "    lon, lat = point[7:-2].split()\n",
    "    intercept = (float(lat), float(lon))\n",
    "    if street in intercepts.keys():\n",
    "        intercepts[street].append(intercept)\n",
    "    else:\n",
    "        intercepts[street] = [intercept]\n",
    "    if intercept in streets.keys():\n",
    "        streets[intercept].append(street)\n",
    "    else:\n",
    "        streets[intercept] = [street]\n",
    "        nodes[intercept] = c\n",
    "        nodeToIntercept[c] = intercept\n",
    "        c += 1"
   ]
  },
  {
   "cell_type": "code",
   "execution_count": 3,
   "id": "7eaffe57",
   "metadata": {
    "id": "7eaffe57",
    "outputId": "fe8d2a8c-44ca-4bf9-d2c7-bd0b7982f462"
   },
   "outputs": [
    {
     "data": {
      "text/plain": [
       "[(37.7543372313743, -122.40545417189192),\n",
       " (37.76841488233248, -122.40679858931149),\n",
       " (37.7607529052339, -122.40606109793055),\n",
       " (37.7619964030768, -122.4061819835959),\n",
       " (37.7658422711544, -122.40655282446389),\n",
       " (37.7512810744602, -122.40515881630326),\n",
       " (37.7594458071505, -122.40593403378597),\n",
       " (37.769298557428, -122.40688239974939),\n",
       " (37.7562225803215, -122.40521698628322),\n",
       " (37.7645476536961, -122.40642915445186),\n",
       " (37.7517869480963, -122.40520770296072),\n",
       " (37.7632538870406, -122.40630557076001),\n",
       " (37.75692043860479, -122.40525954218414),\n",
       " (37.753063831974, -122.40533110370748),\n",
       " (37.7671421818598, -122.40667700476389)]"
      ]
     },
     "execution_count": 3,
     "metadata": {},
     "output_type": "execute_result"
    }
   ],
   "source": [
    "intercepts['UTAH']"
   ]
  },
  {
   "cell_type": "code",
   "execution_count": 4,
   "id": "297d1a27",
   "metadata": {
    "id": "297d1a27",
    "outputId": "f79a30da-79e1-407e-cfd2-ff1deb9d167c"
   },
   "outputs": [
    {
     "data": {
      "text/plain": [
       "['UTAH', '23RD']"
      ]
     },
     "execution_count": 4,
     "metadata": {},
     "output_type": "execute_result"
    }
   ],
   "source": [
    "streets[(37.7543372313743, -122.40545417189192)]"
   ]
  },
  {
   "cell_type": "markdown",
   "id": "dc1fd687",
   "metadata": {
    "id": "dc1fd687"
   },
   "source": [
    "# Graph creation"
   ]
  },
  {
   "cell_type": "code",
   "execution_count": 5,
   "id": "36a4c331",
   "metadata": {
    "id": "36a4c331"
   },
   "outputs": [],
   "source": [
    "import math"
   ]
  },
  {
   "cell_type": "code",
   "execution_count": 6,
   "id": "Kv8kcl0AloB0",
   "metadata": {
    "id": "Kv8kcl0AloB0"
   },
   "outputs": [],
   "source": [
    "def toRadians(valor):\n",
    "  return (math.pi/180.0)*valor"
   ]
  },
  {
   "cell_type": "code",
   "execution_count": 7,
   "id": "5dab6bf4",
   "metadata": {
    "id": "5dab6bf4"
   },
   "outputs": [],
   "source": [
    "def calculateDistance(intercept1, intecerpt2):\n",
    "  Lat1, Lon1 = intercept1\n",
    "  Lat2, Lon2 = intecerpt2\n",
    "  difLat = toRadians(Lat2 - Lat1)\n",
    "  difLon = toRadians(Lon2 - Lon1)\n",
    "\n",
    "  a = math.sin(difLat/2)**2 + math.cos(toRadians(Lat1))*math.cos(toRadians(Lat2))*(math.sin(difLon/2))**2\n",
    "  c = 2*math.atan2(math.sqrt(a),math.sqrt(1-a))\n",
    "\n",
    "  return  6371000.0*c"
   ]
  },
  {
   "cell_type": "code",
   "execution_count": 128,
   "id": "c3eea7ea",
   "metadata": {
    "id": "c3eea7ea"
   },
   "outputs": [],
   "source": [
    "def createGraph(streets, intercepts, nodes):\n",
    "    G = [[] for i in range(len(streets.keys()))]\n",
    "    \n",
    "    for intercept in streets.keys():\n",
    "        for street in streets[intercept]:\n",
    "            neighbours = []\n",
    "            for point in intercepts[street]:\n",
    "                if point != intercept:\n",
    "                    neighbours.append([point, calculateDistance(intercept, point)])\n",
    "            \n",
    "            if len(neighbours) > 1:\n",
    "                neighbours.sort(key=lambda ls: ls[1])\n",
    "                neighbours = neighbours[0:2]\n",
    "                if calculateDistance(neighbours[0][0], neighbours[1][0]) < neighbours[1][1]:\n",
    "                    neighbours.pop()\n",
    "                \n",
    "                G[nodes[intercept]].extend([[nodes[neighbours[x][0]], neighbours[x][1]] for x in range(len(neighbours))])\n",
    "                \n",
    "            elif len(neighbours) > 0:\n",
    "                G[nodes[intercept]].append([nodes[neighbours[0][0]], neighbours[0][1]])\n",
    "    \n",
    "    return G"
   ]
  },
  {
   "cell_type": "code",
   "execution_count": 129,
   "id": "9220b810",
   "metadata": {
    "id": "9220b810",
    "outputId": "3eb6a3bb-5463-46af-93f8-7970ac48a83c"
   },
   "outputs": [],
   "source": [
    "G_al = createGraph(streets, intercepts, nodes)"
   ]
  },
  {
   "cell_type": "code",
   "execution_count": 130,
   "id": "1b4d2bd0",
   "metadata": {},
   "outputs": [
    {
     "data": {
      "text/plain": [
       "[[[5321, 142.00833223494575],\n",
       "  [4872, 210.67571229642408],\n",
       "  [2454, 37.22465458994596]],\n",
       " [[4583, 98.53595309310332],\n",
       "  [2117, 141.92080404386942],\n",
       "  [1096, 85.59962750489584],\n",
       "  [9243, 89.46714377658822]],\n",
       " [[2735, 138.67840534620814],\n",
       "  [199, 145.7712698361287],\n",
       "  [9582, 19.874859007408237]],\n",
       " [[2557, 138.67840534620814],\n",
       "  [3713, 140.24725124381496],\n",
       "  [5727, 84.8182804443879],\n",
       "  [4401, 88.64615250101576]],\n",
       " [[1997, 144.3647746039867],\n",
       "  [2117, 144.95504901139918],\n",
       "  [2835, 85.29283053076041],\n",
       "  [2228, 86.51620157812049]],\n",
       " [[5159, 56.414548358394235]],\n",
       " [[3362, 84.81852132917463],\n",
       "  [7639, 89.48501702859892],\n",
       "  [2557, 145.7712698361287]],\n",
       " [[1102, 98.53595309310332], [9151, 61.568912997825514]],\n",
       " [[329, 77.68843490865129], [0, 210.67571229642408]],\n",
       " [[2387, 85.13856652865068],\n",
       "  [7320, 87.32945494578928],\n",
       "  [3713, 144.26988119461396],\n",
       "  [3030, 144.3647746039867]],\n",
       " [[3581, 56.414548358394235],\n",
       "  [5321, 142.39690409315344],\n",
       "  [2159, 85.16578097357856],\n",
       "  [5910, 89.20420171624211]],\n",
       " [[2954, 65.1939588114598],\n",
       "  [2356, 88.14820250516702],\n",
       "  [2735, 140.24725124381496],\n",
       "  [1997, 144.26988119461396]],\n",
       " [[616, 46.48829894493287],\n",
       "  [4872, 77.68843490865129],\n",
       "  [199, 287.00025876848326]],\n",
       " [[5096, 85.33774423925937],\n",
       "  [5832, 88.61821723234412],\n",
       "  [0, 142.00833223494575],\n",
       "  [5159, 142.39690409315344]],\n",
       " [[6714, 85.44780495574709],\n",
       "  [8629, 88.85853158605492],\n",
       "  [1102, 141.92080404386942],\n",
       "  [3030, 144.95504901139918]]]"
      ]
     },
     "execution_count": 130,
     "metadata": {},
     "output_type": "execute_result"
    }
   ],
   "source": [
    "[G_al[nodes[i]] for i in intercepts['UTAH']]"
   ]
  },
  {
   "cell_type": "code",
   "execution_count": 131,
   "id": "1d1eceab",
   "metadata": {},
   "outputs": [
    {
     "data": {
      "text/plain": [
       "[[[4972, 85.08929146449283]],\n",
       " [[6671, 88.54364979708429],\n",
       "  [3948, 94.06394496294911],\n",
       "  [5003, 207.41274819470334],\n",
       "  [3837, 207.89167312864245]],\n",
       " [[255, 48.880654419431764]],\n",
       " [[3764, 28.24158660523248]],\n",
       " [[6843, 33.43101608987303]],\n",
       " [[8183, 133.47862835591962], [5433, 147.90161388528514]],\n",
       " [[3396, 117.85140412807054]],\n",
       " [[7416, 178.6633900378549]],\n",
       " [[3433, 72.84921868898316]],\n",
       " [[6486, 114.39235270617861]]]"
      ]
     },
     "execution_count": 131,
     "metadata": {},
     "output_type": "execute_result"
    }
   ],
   "source": [
    "G_al[-10:]"
   ]
  },
  {
   "cell_type": "code",
   "execution_count": 132,
   "id": "58f350ea",
   "metadata": {
    "id": "58f350ea",
    "outputId": "ee7c9d82-bafa-430e-ec32-7c4ce6b2e53a"
   },
   "outputs": [
    {
     "data": {
      "text/plain": [
       "[5096, 85.33774423925937]"
      ]
     },
     "execution_count": 132,
     "metadata": {},
     "output_type": "execute_result"
    }
   ],
   "source": [
    "G_al[G_al[0][0][0]][0]"
   ]
  },
  {
   "cell_type": "markdown",
   "id": "fc5da05d",
   "metadata": {
    "id": "fc5da05d"
   },
   "source": [
    "## Testing the distance calculation (Km)"
   ]
  },
  {
   "cell_type": "markdown",
   "id": "tXwGI_H0l5ew",
   "metadata": {
    "id": "tXwGI_H0l5ew"
   },
   "source": [
    "![image.png](data:image/png;base64,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)"
   ]
  },
  {
   "cell_type": "code",
   "execution_count": 133,
   "id": "sXgrF8t_mBck",
   "metadata": {
    "colab": {
     "base_uri": "https://localhost:8080/"
    },
    "id": "sXgrF8t_mBck",
    "outputId": "25f05851-f15b-46c9-9c8c-d8f806651a21"
   },
   "outputs": [
    {
     "data": {
      "text/plain": [
       "142.00833223494575"
      ]
     },
     "execution_count": 133,
     "metadata": {},
     "output_type": "execute_result"
    }
   ],
   "source": [
    "calculateDistance((37.7543372313743,-122.40545417189192),(37.753063831974,-122.40533110370748))"
   ]
  },
  {
   "cell_type": "code",
   "execution_count": 134,
   "id": "c8d7526c",
   "metadata": {
    "colab": {
     "base_uri": "https://localhost:8080/"
    },
    "id": "sXgrF8t_mBck",
    "outputId": "25f05851-f15b-46c9-9c8c-d8f806651a21"
   },
   "outputs": [],
   "source": [
    "# our distance is measured in meters, so 0.1418 km = 141.8 m\n",
    "assert calculateDistance((37.7543372313743,-122.40545417189192),(37.753063831974,-122.40533110370748)) > 141.8*0.99 \n",
    "assert calculateDistance((37.7543372313743,-122.40545417189192),(37.753063831974,-122.40533110370748)) < 141.8*1.01\n",
    "# checking that the calculated distance is within a 1% error margin of the real value"
   ]
  },
  {
   "cell_type": "code",
   "execution_count": 135,
   "id": "3296659b",
   "metadata": {
    "id": "3296659b",
    "outputId": "834456a0-1975-4d3f-f06a-ce26bf6573cd"
   },
   "outputs": [
    {
     "data": {
      "text/plain": [
       "(37.7543372313743, -122.40545417189192)"
      ]
     },
     "execution_count": 135,
     "metadata": {},
     "output_type": "execute_result"
    }
   ],
   "source": [
    "nodeToIntercept[0]"
   ]
  },
  {
   "cell_type": "code",
   "execution_count": 136,
   "id": "d2bdc274",
   "metadata": {
    "id": "d2bdc274",
    "outputId": "4a834090-0bec-495c-c08f-499401181033"
   },
   "outputs": [
    {
     "data": {
      "text/plain": [
       "(37.753063831974, -122.40533110370748)"
      ]
     },
     "execution_count": 136,
     "metadata": {},
     "output_type": "execute_result"
    }
   ],
   "source": [
    "nodeToIntercept[5321]"
   ]
  },
  {
   "cell_type": "code",
   "execution_count": 137,
   "id": "e9594b1c",
   "metadata": {
    "id": "e9594b1c",
    "outputId": "ba40b34a-4f4c-4826-834c-24c7dbd20862"
   },
   "outputs": [
    {
     "data": {
      "text/plain": [
       "142.00833223494575"
      ]
     },
     "execution_count": 137,
     "metadata": {},
     "output_type": "execute_result"
    }
   ],
   "source": [
    "calculateDistance(nodeToIntercept[0], nodeToIntercept[5321])"
   ]
  },
  {
   "cell_type": "code",
   "execution_count": 138,
   "id": "58d1e146",
   "metadata": {
    "id": "58d1e146"
   },
   "outputs": [],
   "source": [
    "assert 0 in [v for v, w in G_al[G_al[0][0][0]]]\n",
    "assert 0 in [v for v, w in G_al[G_al[0][1][0]]]"
   ]
  },
  {
   "cell_type": "markdown",
   "id": "b9fe4bd1",
   "metadata": {
    "id": "b9fe4bd1"
   },
   "source": [
    "# Tests"
   ]
  },
  {
   "cell_type": "code",
   "execution_count": 139,
   "id": "2e9e39f4",
   "metadata": {
    "id": "2e9e39f4"
   },
   "outputs": [],
   "source": [
    "def commonStreet(ls1, ls2):\n",
    "    for street in ls1:\n",
    "        if street in ls2:\n",
    "            return True\n",
    "    return False"
   ]
  },
  {
   "cell_type": "code",
   "execution_count": 140,
   "id": "6a5356ed",
   "metadata": {
    "id": "6a5356ed"
   },
   "outputs": [],
   "source": [
    "assert commonStreet(streets[nodeToIntercept[G_al[0][0][0]]], streets[nodeToIntercept[0]])\n",
    "assert commonStreet(streets[nodeToIntercept[G_al[0][1][0]]], streets[nodeToIntercept[0]])"
   ]
  },
  {
   "cell_type": "code",
   "execution_count": 141,
   "id": "67767f4e",
   "metadata": {
    "id": "67767f4e"
   },
   "outputs": [],
   "source": [
    "assert commonStreet(streets[nodeToIntercept[G_al[1][0][0]]], streets[nodeToIntercept[1]]) \n",
    "assert commonStreet(streets[nodeToIntercept[G_al[1][1][0]]], streets[nodeToIntercept[1]])"
   ]
  },
  {
   "cell_type": "markdown",
   "id": "da4a15c9",
   "metadata": {
    "id": "da4a15c9"
   },
   "source": [
    "# Writing the graph adjacency list"
   ]
  },
  {
   "cell_type": "code",
   "execution_count": 142,
   "id": "f29c9c1e",
   "metadata": {
    "id": "f29c9c1e"
   },
   "outputs": [],
   "source": [
    "f = open(\"weighted_graph.al\", \"w\")\n",
    "f.write(str(len(G_al))+'\\n')\n",
    "c = 0\n",
    "for line in G_al:\n",
    "    f.write(str(c)+' ')\n",
    "    if len(line) > 0:\n",
    "        for x, y in line:\n",
    "            f.write(str(x)+','+str(y)+' ')\n",
    "    else:\n",
    "        f.write('-')\n",
    "    f.write('\\n')\n",
    "    c += 1"
   ]
  },
  {
   "cell_type": "markdown",
   "id": "7400268a",
   "metadata": {},
   "source": [
    "# Read graph from adjacency list "
   ]
  },
  {
   "cell_type": "code",
   "execution_count": 24,
   "id": "05e8c438",
   "metadata": {},
   "outputs": [],
   "source": [
    "with open(\"weighted_graph.al\", \"r\") as f:\n",
    "    n = int(f.readline().strip())\n",
    "    G = [[] for _ in range(n)]\n",
    "    \n",
    "    for line in f:\n",
    "        line = line.strip().split()\n",
    "        u = int(line[0])\n",
    "        for pair in line[1:]:\n",
    "            G[u].append([int(v), float(w)] for v, w in pair.split(sep=','))"
   ]
  },
  {
   "cell_type": "markdown",
   "id": "db9b00e9",
   "metadata": {},
   "source": [
    "# Adding traffic"
   ]
  },
  {
   "cell_type": "markdown",
   "id": "6670e21d",
   "metadata": {},
   "source": [
    "## Custom"
   ]
  },
  {
   "cell_type": "code",
   "execution_count": 24,
   "id": "359e15bd",
   "metadata": {},
   "outputs": [
    {
     "name": "stdout",
     "output_type": "stream",
     "text": [
      "Requirement already satisfied: perlin_noise in /home/z3r0/anaconda3/lib/python3.9/site-packages (1.12)\n",
      "Note: you may need to restart the kernel to use updated packages.\n"
     ]
    }
   ],
   "source": [
    "pip install perlin_noise"
   ]
  },
  {
   "cell_type": "code",
   "execution_count": 23,
   "id": "cfc6a545",
   "metadata": {},
   "outputs": [],
   "source": [
    "import matplotlib.pyplot as plt\n",
    "from perlin_noise import PerlinNoise"
   ]
  },
  {
   "cell_type": "code",
   "execution_count": 143,
   "id": "fba6b8ee",
   "metadata": {},
   "outputs": [],
   "source": [
    "noise = PerlinNoise(octaves=3.5, seed=777)"
   ]
  },
  {
   "cell_type": "code",
   "execution_count": 144,
   "id": "e2e84d07",
   "metadata": {},
   "outputs": [
    {
     "data": {
      "text/plain": [
       "0.092731095571599"
      ]
     },
     "execution_count": 144,
     "metadata": {},
     "output_type": "execute_result"
    }
   ],
   "source": [
    "noise([29, 30.5])"
   ]
  },
  {
   "cell_type": "code",
   "execution_count": 145,
   "id": "69ce00d8",
   "metadata": {},
   "outputs": [],
   "source": [
    "def timeFactor(time):\n",
    "    timeToTraffic = [(1, 1.5), (1, 1.3), (1, 1.1), (1, 1.2), (1, 1.5), (1, 2), (1.1, 3.2), (1.5, 5.5), \n",
    "               (1.3, 4), (1, 2.5), (1, 2), (1.1, 2.8), (1.3, 4), (1.4, 4.1), (1.1, 3), (1.1, 2.5), \n",
    "               (1.1, 2.6), (1.3, 4), (1.5, 5.2), (1.5, 5.5), (1.1, 4.4), (1, 2.2), (1, 2), (1, 1.6)]\n",
    "    \n",
    "    return timeToTraffic[int(time[:2])]"
   ]
  },
  {
   "cell_type": "markdown",
   "id": "82e3920a",
   "metadata": {},
   "source": [
    "```\n",
    "fMin, fMax = tFactor[t]\n",
    "w = w * (fMin + noise([lat1, lon1, lat2, lat2]) * (fMax - fMin))\n",
    "```"
   ]
  },
  {
   "cell_type": "code",
   "execution_count": 146,
   "id": "b66b3962",
   "metadata": {},
   "outputs": [],
   "source": [
    "def addTraffic(G, nodeToIntercept, time):\n",
    "    tMin, tMax = timeFactor(time)\n",
    "    for u in range(len(G)):\n",
    "        for i in range(len(G[u])):\n",
    "            v, w = G[u][i]\n",
    "            lat, lon = map(lambda c1, c2: 10*(c1+c2)/2, nodeToIntercept[u], nodeToIntercept[v])\n",
    "            zoneFactor = noise([lat, lon]) + 0.707\n",
    "            def linearRescale(x, l, r):\n",
    "                return x*(r - l)/(0.707 - -0.707) # E [-0.707, 0.707]\n",
    "            zoneFactor = linearRescale(zoneFactor, tMin, tMax)\n",
    "            # convert to int because < 1m is a negligible value\n",
    "            G[u][i][1] = int(w * (tMin + zoneFactor))"
   ]
  },
  {
   "cell_type": "code",
   "execution_count": 147,
   "id": "bd9b3228",
   "metadata": {},
   "outputs": [],
   "source": [
    "addTraffic(G_al, nodeToIntercept, \"19:38:29\")"
   ]
  },
  {
   "cell_type": "code",
   "execution_count": 148,
   "id": "724583e8",
   "metadata": {},
   "outputs": [
    {
     "data": {
      "text/plain": [
       "[[[5321, 483], [4872, 719], [2454, 127]],\n",
       " [[4583, 302], [2117, 439], [1096, 266], [9243, 273]],\n",
       " [[2735, 456], [199, 485], [9582, 65]],\n",
       " [[2557, 456], [3713, 456], [5727, 279], [4401, 288]],\n",
       " [[1997, 457], [2117, 453], [2835, 270], [2228, 270]],\n",
       " [[5159, 190]],\n",
       " [[3362, 285], [7639, 298], [2557, 485]],\n",
       " [[1102, 302], [9151, 189]],\n",
       " [[329, 265], [0, 719]],\n",
       " [[2387, 273], [7320, 276], [3713, 463], [3030, 457]],\n",
       " [[3581, 190], [5321, 483], [2159, 289], [5910, 300]],\n",
       " [[2954, 211], [2356, 283], [2735, 456], [1997, 463]],\n",
       " [[616, 159], [4872, 265], [199, 971]],\n",
       " [[5096, 291], [5832, 300], [0, 483], [5159, 483]],\n",
       " [[6714, 268], [8629, 274], [1102, 439], [3030, 453]]]"
      ]
     },
     "execution_count": 148,
     "metadata": {},
     "output_type": "execute_result"
    }
   ],
   "source": [
    "[G_al[nodes[i]] for i in intercepts['UTAH']]"
   ]
  },
  {
   "cell_type": "code",
   "execution_count": 149,
   "id": "4a2f57eb",
   "metadata": {},
   "outputs": [
    {
     "data": {
      "text/plain": [
       "[[[4972, 356]],\n",
       " [[6671, 404], [3948, 427], [5003, 949], [3837, 941]],\n",
       " [[255, 198]],\n",
       " [[3764, 109]],\n",
       " [[6843, 113]],\n",
       " [[8183, 445], [5433, 494]],\n",
       " [[3396, 281]],\n",
       " [[7416, 666]],\n",
       " [[3433, 278]],\n",
       " [[6486, 361]]]"
      ]
     },
     "execution_count": 149,
     "metadata": {},
     "output_type": "execute_result"
    }
   ],
   "source": [
    "G_al[-10:]"
   ]
  },
  {
   "cell_type": "markdown",
   "id": "bd36c080",
   "metadata": {},
   "source": [
    "# Finding shortest paths"
   ]
  },
  {
   "cell_type": "code",
   "execution_count": 49,
   "id": "e60deacc",
   "metadata": {},
   "outputs": [],
   "source": [
    "import heapq as hq"
   ]
  },
  {
   "cell_type": "code",
   "execution_count": 182,
   "id": "6cbf8031",
   "metadata": {},
   "outputs": [],
   "source": [
    "def dijkstra(G, source, sink=None, parent=None):\n",
    "    n = len(G)\n",
    "    if parent is None: parent = [None]*n\n",
    "    heap = [(0, source, None)]\n",
    "    \n",
    "    while heap:\n",
    "        c, u, p = hq.heappop(heap)\n",
    "        \n",
    "        if parent[u] is not None: continue\n",
    "            \n",
    "        parent[u] = (p, c)\n",
    "        \n",
    "        if sink and u == sink:\n",
    "            path = [u]\n",
    "            cost = [c]\n",
    "            \n",
    "            while(u != source):\n",
    "                u = parent[u][0]\n",
    "                c = parent[u][1]\n",
    "                path.append(u)\n",
    "                cost.append(c)\n",
    "            \n",
    "            for i in range(len(cost)-2):\n",
    "                cost[i] -= cost[i+1]\n",
    "            path.reverse()\n",
    "            cost.reverse()\n",
    "            return [path, cost]\n",
    "        \n",
    "        for v, w in G[u]:\n",
    "            if parent[v] is None and w > 0:\n",
    "                hq.heappush(heap, (c + w, v, u))"
   ]
  },
  {
   "cell_type": "code",
   "execution_count": 206,
   "id": "681ac53c",
   "metadata": {},
   "outputs": [],
   "source": [
    "def YenKSP(G, source, sink, K=0):\n",
    "    A = [[] for _ in range(K)]\n",
    "    A[0] = dijkstra(G, source, sink)\n",
    "    B = []\n",
    "    \n",
    "    print(A[0])\n",
    "    if A[0] is None: return A\n",
    "    \n",
    "    for k in range(K-1):\n",
    "        for i in range(len(A[k][0]) - 1):\n",
    "            parent = [None]*len(G)\n",
    "            \n",
    "            spurNode = A[k][0][i]\n",
    "            rootPath = [A[k][0][:i+1], A[k][1][:i+1]]\n",
    "            \n",
    "            disabledEdges = []\n",
    "            for path in A:\n",
    "                if path == []: continue\n",
    "                if path[0][:i+1] == rootPath[0]:\n",
    "                    u = path[0][i]\n",
    "                    for j in range(len(G[u])):\n",
    "                        v, w = G[u][j]\n",
    "                        if v == path[0][i+1]: \n",
    "                            G[u][j][1] = 0\n",
    "                            disabledEdges.append((u, j, w))\n",
    "            \n",
    "            rootPath[0].pop()\n",
    "            rootPath[1].pop()\n",
    "            for node in rootPath[0]:\n",
    "                parent[node] = -1\n",
    "            \n",
    "            spurPath = dijkstra(G, source, sink, parent)\n",
    "            \n",
    "            for u, j, w in disabledEdges:\n",
    "                G[u][j][1] = w\n",
    "            \n",
    "            if spurPath is None: continue\n",
    "            \n",
    "            totalPath = spurPath if i == 0 else [rootPath[0] + spurPath[0], rootPath[1] + spurPath[1]]\n",
    "            B.append(totalPath)\n",
    "            \n",
    "        if B == []: break\n",
    "        \n",
    "        B = sorted(B, key=lambda b: sum(b[1]))\n",
    "        A[k+1] = B.pop(0)\n",
    "        \n",
    "    return A"
   ]
  },
  {
   "cell_type": "markdown",
   "id": "f9c0eaca",
   "metadata": {},
   "source": [
    "## Testings"
   ]
  },
  {
   "cell_type": "code",
   "execution_count": 52,
   "id": "aec05ed5",
   "metadata": {},
   "outputs": [],
   "source": [
    "import random"
   ]
  },
  {
   "cell_type": "code",
   "execution_count": 187,
   "id": "769fdce7",
   "metadata": {},
   "outputs": [
    {
     "name": "stdout",
     "output_type": "stream",
     "text": [
      "[0, 4872, 329, 616, 4906, 4294]\n",
      "Total distance: 1437\n",
      "\n",
      "[0, 2454, 8573, 8310, 4785, 4294]\n",
      "Total distance: 1579\n",
      "\n",
      "[0, 5321, 5096, 8573, 8310, 4785, 4294]\n",
      "Total distance: 2550\n",
      "\n"
     ]
    }
   ],
   "source": [
    "source = 0\n",
    "sink = 4294\n",
    "K = 3\n",
    "\n",
    "paths = YenKSP(G_al, source, sink, K)\n",
    "for k in range(K):\n",
    "    if paths[k] == []:\n",
    "        print(f\"{k}. No applicable path from point {source} to point {sink}\\n\")\n",
    "    else:\n",
    "        print(paths[k][0], f\"Total distance: {sum(paths[k][1])}\\n\", sep='\\n')"
   ]
  },
  {
   "cell_type": "code",
   "execution_count": 207,
   "id": "72a64128",
   "metadata": {},
   "outputs": [
    {
     "name": "stdout",
     "output_type": "stream",
     "text": [
      "[[0, 2454, 8573, 8310], [0, 127, 165, 293]]\n",
      "[0, 2454, 8573, 8310] Total distance: 585\n",
      "[0, 5321, 5096, 8573, 8310] Total distance: 1556\n",
      "[0, 4872, 329, 616, 9223, 4255, 3362, 1856, 4909, 2278, 1990, 2874, 5099, 1835, 8310] Total distance: 5648\n"
     ]
    }
   ],
   "source": [
    "source = 0\n",
    "sink = 8310\n",
    "K = 3\n",
    "\n",
    "paths = YenKSP(G_al, source, sink, K)\n",
    "for k in range(K):\n",
    "    if paths[k] == []:\n",
    "        print(f\"{k}. No applicable path from point {source} to point {sink}\")\n",
    "    else:\n",
    "        print(paths[k][0], f\"Total distance: {sum(paths[k][1])}\")"
   ]
  },
  {
   "cell_type": "code",
   "execution_count": 217,
   "id": "0539e6eb",
   "metadata": {},
   "outputs": [
    {
     "name": "stdout",
     "output_type": "stream",
     "text": [
      "[[0, 4872, 329, 199, 2557], [0, 719, 265, 971, 485]]\n",
      "\n",
      "TEST 1\n",
      "\n",
      "[0, 4872, 329, 199, 2557]\n",
      "Total distance: 2440\n",
      "\n",
      "[0, 2454, 8573, 8310, 4785, 4294, 4906, 616, 329, 199, 2557]\n",
      "Total distance: 3488\n",
      "\n",
      "[0, 5321, 5096, 8573, 8310, 4785, 4294, 4906, 616, 329, 199, 2557]\n",
      "Total distance: 4459\n",
      "\n",
      "None\n",
      "\n",
      "TEST 2\n",
      "\n",
      "0. No applicable path from point 0 to point 0\n",
      "\n",
      "1. No applicable path from point 0 to point 0\n",
      "\n",
      "2. No applicable path from point 0 to point 0\n",
      "\n",
      "[[0, 4872, 329, 199, 2557, 2735, 4401], [0, 719, 265, 971, 485, 456, 288]]\n",
      "\n",
      "TEST 3\n",
      "\n",
      "[0, 4872, 329, 199, 2557, 2735, 4401]\n",
      "Total distance: 3184\n",
      "\n",
      "[0, 2454, 8573, 8310, 4785, 4294, 4906, 616, 329, 199, 2557, 2735, 4401]\n",
      "Total distance: 4232\n",
      "\n",
      "[0, 5321, 5832, 5054, 5732, 8664, 6417, 6702, 3889, 2771, 4719, 4401]\n",
      "Total distance: 4673\n",
      "\n"
     ]
    }
   ],
   "source": [
    "N = 3\n",
    "\n",
    "for n in range(N):\n",
    "    source = 0\n",
    "    sink = source\n",
    "    K = 3\n",
    "    for _ in range(10):\n",
    "        index = random.randint(0, len(G_al[sink]) - 1)\n",
    "        sink = G_al[sink][index][0]\n",
    " \n",
    "    paths = YenKSP(G_al, source, sink, K)\n",
    "    print(f\"\\nTEST {n+1}\\n\")\n",
    "    for k in range(K):\n",
    "        if paths[k] == None or paths[k] == []:\n",
    "            print(f\"{k}. No applicable path from point {source} to point {sink}\\n\")\n",
    "        else:\n",
    "            print(paths[k][0], f\"Total distance: {sum(paths[k][1])}\\n\", sep='\\n')"
   ]
  }
 ],
 "metadata": {
  "colab": {
   "name": "TF-G5.ipynb",
   "provenance": []
  },
  "kernelspec": {
   "display_name": "Python 3 (ipykernel)",
   "language": "python",
   "name": "python3"
  },
  "language_info": {
   "codemirror_mode": {
    "name": "ipython",
    "version": 3
   },
   "file_extension": ".py",
   "mimetype": "text/x-python",
   "name": "python",
   "nbconvert_exporter": "python",
   "pygments_lexer": "ipython3",
   "version": "3.9.7"
  }
 },
 "nbformat": 4,
 "nbformat_minor": 5
}
